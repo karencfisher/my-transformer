{
 "cells": [
  {
   "cell_type": "code",
   "execution_count": 25,
   "metadata": {},
   "outputs": [],
   "source": [
    "import pandas as pd\n",
    "import numpy as np\n",
    "import matplotlib.pyplot as plt\n",
    "\n",
    "import tensorflow as tf\n",
    "from tensorflow.keras.models import Sequential\n",
    "from tensorflow.keras.layers import Dense, InputLayer, Flatten\n",
    "from tensorflow.keras.optimizers import Adam\n",
    "\n",
    "from transformer.encoder import Encoder"
   ]
  },
  {
   "cell_type": "code",
   "execution_count": 3,
   "metadata": {},
   "outputs": [],
   "source": [
    "config = {'num_heads': 12, \n",
    "          'vocab_size': 30522,\n",
    "          'hidden_size': 128,\n",
    "          'max_position_embeds': 512,\n",
    "          'intermediate_size': 512,\n",
    "          'dropout_p': 0.1,\n",
    "          'input_size': (100,),\n",
    "          'num_hidden_layers': 1}"
   ]
  },
  {
   "attachments": {},
   "cell_type": "markdown",
   "metadata": {},
   "source": [
    "## Get some toy data\n",
    "\n",
    "The yelp sentence sentiment data set from Kaggle will do"
   ]
  },
  {
   "cell_type": "code",
   "execution_count": 15,
   "metadata": {},
   "outputs": [
    {
     "data": {
      "text/html": [
       "<div>\n",
       "<style scoped>\n",
       "    .dataframe tbody tr th:only-of-type {\n",
       "        vertical-align: middle;\n",
       "    }\n",
       "\n",
       "    .dataframe tbody tr th {\n",
       "        vertical-align: top;\n",
       "    }\n",
       "\n",
       "    .dataframe thead th {\n",
       "        text-align: right;\n",
       "    }\n",
       "</style>\n",
       "<table border=\"1\" class=\"dataframe\">\n",
       "  <thead>\n",
       "    <tr style=\"text-align: right;\">\n",
       "      <th></th>\n",
       "      <th>sentence</th>\n",
       "      <th>sentiment</th>\n",
       "    </tr>\n",
       "  </thead>\n",
       "  <tbody>\n",
       "    <tr>\n",
       "      <th>0</th>\n",
       "      <td>Wow... Loved this place.</td>\n",
       "      <td>1</td>\n",
       "    </tr>\n",
       "    <tr>\n",
       "      <th>1</th>\n",
       "      <td>Crust is not good.</td>\n",
       "      <td>0</td>\n",
       "    </tr>\n",
       "    <tr>\n",
       "      <th>2</th>\n",
       "      <td>Not tasty and the texture was just nasty.</td>\n",
       "      <td>0</td>\n",
       "    </tr>\n",
       "    <tr>\n",
       "      <th>3</th>\n",
       "      <td>Stopped by during the late May bank holiday of...</td>\n",
       "      <td>1</td>\n",
       "    </tr>\n",
       "    <tr>\n",
       "      <th>4</th>\n",
       "      <td>The selection on the menu was great and so wer...</td>\n",
       "      <td>1</td>\n",
       "    </tr>\n",
       "  </tbody>\n",
       "</table>\n",
       "</div>"
      ],
      "text/plain": [
       "                                            sentence  sentiment\n",
       "0                           Wow... Loved this place.          1\n",
       "1                                 Crust is not good.          0\n",
       "2          Not tasty and the texture was just nasty.          0\n",
       "3  Stopped by during the late May bank holiday of...          1\n",
       "4  The selection on the menu was great and so wer...          1"
      ]
     },
     "execution_count": 15,
     "metadata": {},
     "output_type": "execute_result"
    }
   ],
   "source": [
    "rows = []\n",
    "with open('yelp_labelled.txt', 'r') as FILE:\n",
    "    while True:\n",
    "        row = FILE.readline()\n",
    "        if not row:\n",
    "            break\n",
    "        row = row.strip().split('\\t')\n",
    "        sentence = row[0]\n",
    "        sentiment = int(row[1])\n",
    "        rows.append({'sentence': sentence, 'sentiment': sentiment})\n",
    " \n",
    "df = pd.DataFrame(rows, columns=['sentence', 'sentiment'])\n",
    "df.head()"
   ]
  },
  {
   "cell_type": "code",
   "execution_count": 34,
   "metadata": {},
   "outputs": [
    {
     "data": {
      "text/plain": [
       "1    500\n",
       "0    500\n",
       "Name: sentiment, dtype: int64"
      ]
     },
     "execution_count": 34,
     "metadata": {},
     "output_type": "execute_result"
    }
   ],
   "source": [
    "df['sentiment'].value_counts()"
   ]
  },
  {
   "attachments": {},
   "cell_type": "markdown",
   "metadata": {},
   "source": [
    "### Get our toy vocabulary"
   ]
  },
  {
   "cell_type": "code",
   "execution_count": 17,
   "metadata": {},
   "outputs": [],
   "source": [
    "vocab = {'<pad>': 0, '<unk>': 1}\n",
    "index = 2\n",
    "for s in df['sentence'].values:\n",
    "    words = s.strip().split()\n",
    "    for word in words:\n",
    "        i = vocab.get(word)\n",
    "        if i is None:\n",
    "            vocab[word] = index\n",
    "            index += 1\n",
    "\n",
    "vocab_reverse = {value: key for key, value in vocab.items()}\n",
    "\n",
    "config['vocab_size'] = len(vocab)\n"
   ]
  },
  {
   "attachments": {},
   "cell_type": "markdown",
   "metadata": {},
   "source": [
    "### Tokenize the sentences and split into x and y \n",
    "\n",
    "y will be the last token of each sequence, so we can try to predict it. But mostly we just want to see if our transformer encoder trains."
   ]
  },
  {
   "cell_type": "code",
   "execution_count": 18,
   "metadata": {},
   "outputs": [
    {
     "name": "stdout",
     "output_type": "stream",
     "text": [
      "Number of sentences: 1000\n",
      "Vocabulary size: 2971\n",
      "Max sentence length: 32\n"
     ]
    }
   ],
   "source": [
    "def tokenize(sent):\n",
    "    tokens = [vocab[word] for word in sent.strip().split()]\n",
    "    return tokens\n",
    "\n",
    "x = list(map(tokenize, df['sentence']))\n",
    "x = tf.keras.utils.pad_sequences(x)\n",
    "y = df['sentiment'].values\n",
    "\n",
    "config['input_size'] = (len(x[0]),)\n",
    "\n",
    "print(f'Number of sentences: {df.shape[0]}')\n",
    "print(f'Vocabulary size: {config[\"vocab_size\"]}')\n",
    "print(f'Max sentence length: {config[\"input_size\"][0]}')"
   ]
  },
  {
   "cell_type": "code",
   "execution_count": 19,
   "metadata": {},
   "outputs": [
    {
     "data": {
      "text/plain": [
       "((900, 32), (900,), (100, 32), (100,))"
      ]
     },
     "execution_count": 19,
     "metadata": {},
     "output_type": "execute_result"
    }
   ],
   "source": [
    "x_train = x[:900]\n",
    "y_train = y[:900]\n",
    "x_test = x[900:]\n",
    "y_test = y[900:]\n",
    "\n",
    "x_train.shape, y_train.shape, x_test.shape, y_test.shape"
   ]
  },
  {
   "attachments": {},
   "cell_type": "markdown",
   "metadata": {},
   "source": [
    "## Try our transformer!\n",
    "\n",
    "We'll just train our encoder by the task of predicting the last word of each sentence"
   ]
  },
  {
   "cell_type": "code",
   "execution_count": 35,
   "metadata": {},
   "outputs": [
    {
     "name": "stdout",
     "output_type": "stream",
     "text": [
      "Model: \"sequential_4\"\n",
      "_________________________________________________________________\n",
      " Layer (type)                Output Shape              Param #   \n",
      "=================================================================\n",
      " Encoder (Encoder)           (None, 32, 128)           640232    \n",
      "                                                                 \n",
      " flatten_4 (Flatten)         (None, 4096)              0         \n",
      "                                                                 \n",
      " dense_199 (Dense)           (None, 1)                 4097      \n",
      "                                                                 \n",
      "=================================================================\n",
      "Total params: 644,329\n",
      "Trainable params: 644,329\n",
      "Non-trainable params: 0\n",
      "_________________________________________________________________\n"
     ]
    }
   ],
   "source": [
    "clf = Sequential([InputLayer(input_shape=config['input_size']),\n",
    "                  Encoder(config),\n",
    "                  Flatten(),\n",
    "                  Dense(1, activation='sigmoid')])\n",
    "\n",
    "clf.build()\n",
    "clf.summary()"
   ]
  },
  {
   "cell_type": "code",
   "execution_count": 36,
   "metadata": {},
   "outputs": [
    {
     "name": "stderr",
     "output_type": "stream",
     "text": [
      "WARNING:absl:`lr` is deprecated in Keras optimizer, please use `learning_rate` or use the legacy optimizer, e.g.,tf.keras.optimizers.legacy.Adam.\n"
     ]
    },
    {
     "name": "stdout",
     "output_type": "stream",
     "text": [
      "Epoch 1/100\n",
      "29/29 [==============================] - 14s 93ms/step - loss: 0.8407 - accuracy: 0.4844 - val_loss: 0.9537 - val_accuracy: 0.1300\n",
      "Epoch 2/100\n",
      "29/29 [==============================] - 2s 55ms/step - loss: 0.6317 - accuracy: 0.6456 - val_loss: 0.6164 - val_accuracy: 0.6400\n",
      "Epoch 3/100\n",
      "29/29 [==============================] - 2s 59ms/step - loss: 0.4914 - accuracy: 0.7633 - val_loss: 1.7284 - val_accuracy: 0.2200\n",
      "Epoch 4/100\n",
      "29/29 [==============================] - 2s 54ms/step - loss: 0.3111 - accuracy: 0.8722 - val_loss: 0.7379 - val_accuracy: 0.6600\n",
      "Epoch 5/100\n",
      "29/29 [==============================] - 2s 53ms/step - loss: 0.1439 - accuracy: 0.9467 - val_loss: 0.8141 - val_accuracy: 0.6200\n",
      "Epoch 6/100\n",
      "29/29 [==============================] - 2s 52ms/step - loss: 0.1119 - accuracy: 0.9578 - val_loss: 1.2064 - val_accuracy: 0.5600\n",
      "Epoch 7/100\n",
      "29/29 [==============================] - 2s 52ms/step - loss: 0.0580 - accuracy: 0.9767 - val_loss: 0.5237 - val_accuracy: 0.8200\n",
      "Epoch 8/100\n",
      "29/29 [==============================] - 2s 56ms/step - loss: 0.0219 - accuracy: 0.9956 - val_loss: 0.9554 - val_accuracy: 0.7200\n",
      "Epoch 9/100\n",
      "29/29 [==============================] - 2s 53ms/step - loss: 0.0186 - accuracy: 0.9956 - val_loss: 1.3904 - val_accuracy: 0.6300\n",
      "Epoch 10/100\n",
      "29/29 [==============================] - 2s 54ms/step - loss: 0.0260 - accuracy: 0.9878 - val_loss: 1.7273 - val_accuracy: 0.6300\n",
      "Epoch 11/100\n",
      "29/29 [==============================] - 2s 56ms/step - loss: 0.0034 - accuracy: 1.0000 - val_loss: 1.6115 - val_accuracy: 0.6300\n",
      "Epoch 12/100\n",
      "29/29 [==============================] - 2s 52ms/step - loss: 0.0137 - accuracy: 0.9956 - val_loss: 1.8459 - val_accuracy: 0.6200\n",
      "Epoch 13/100\n",
      "29/29 [==============================] - 1s 51ms/step - loss: 0.0053 - accuracy: 0.9989 - val_loss: 1.3487 - val_accuracy: 0.7100\n",
      "Epoch 14/100\n",
      "29/29 [==============================] - 2s 54ms/step - loss: 0.0051 - accuracy: 0.9989 - val_loss: 1.5101 - val_accuracy: 0.7000\n",
      "Epoch 15/100\n",
      "29/29 [==============================] - 2s 52ms/step - loss: 0.0034 - accuracy: 1.0000 - val_loss: 2.1353 - val_accuracy: 0.6500\n",
      "Epoch 16/100\n",
      "29/29 [==============================] - 2s 54ms/step - loss: 0.0037 - accuracy: 0.9989 - val_loss: 0.7528 - val_accuracy: 0.8100\n",
      "Epoch 17/100\n",
      "29/29 [==============================] - 1s 51ms/step - loss: 0.0181 - accuracy: 0.9933 - val_loss: 1.6884 - val_accuracy: 0.6700\n",
      "Epoch 18/100\n",
      "29/29 [==============================] - 1s 51ms/step - loss: 0.0041 - accuracy: 0.9989 - val_loss: 1.3685 - val_accuracy: 0.7100\n",
      "Epoch 19/100\n",
      "29/29 [==============================] - 2s 53ms/step - loss: 0.0060 - accuracy: 0.9989 - val_loss: 2.5795 - val_accuracy: 0.5200\n",
      "Epoch 20/100\n",
      "29/29 [==============================] - 2s 55ms/step - loss: 0.0210 - accuracy: 0.9933 - val_loss: 3.1822 - val_accuracy: 0.4900\n",
      "Epoch 21/100\n",
      "29/29 [==============================] - 1s 50ms/step - loss: 0.0056 - accuracy: 0.9967 - val_loss: 3.1014 - val_accuracy: 0.5200\n",
      "Epoch 22/100\n",
      "29/29 [==============================] - 1s 50ms/step - loss: 0.0067 - accuracy: 0.9978 - val_loss: 3.8650 - val_accuracy: 0.4200\n",
      "Epoch 23/100\n",
      "29/29 [==============================] - 2s 52ms/step - loss: 0.0046 - accuracy: 0.9978 - val_loss: 2.3493 - val_accuracy: 0.5600\n",
      "Epoch 24/100\n",
      "29/29 [==============================] - 1s 50ms/step - loss: 0.0041 - accuracy: 0.9989 - val_loss: 1.8179 - val_accuracy: 0.6800\n",
      "Epoch 25/100\n",
      "29/29 [==============================] - 1s 51ms/step - loss: 0.0018 - accuracy: 1.0000 - val_loss: 2.5022 - val_accuracy: 0.6000\n",
      "Epoch 26/100\n",
      "29/29 [==============================] - 1s 50ms/step - loss: 0.0014 - accuracy: 0.9989 - val_loss: 1.3856 - val_accuracy: 0.7700\n",
      "Epoch 27/100\n",
      "29/29 [==============================] - 1s 51ms/step - loss: 0.0089 - accuracy: 0.9956 - val_loss: 1.6674 - val_accuracy: 0.7200\n",
      "Epoch 28/100\n",
      "29/29 [==============================] - 1s 51ms/step - loss: 0.0161 - accuracy: 0.9922 - val_loss: 1.8218 - val_accuracy: 0.6900\n",
      "Epoch 29/100\n",
      "29/29 [==============================] - 2s 55ms/step - loss: 0.0571 - accuracy: 0.9878 - val_loss: 1.7591 - val_accuracy: 0.8200\n",
      "Epoch 30/100\n",
      "29/29 [==============================] - 1s 50ms/step - loss: 0.0146 - accuracy: 0.9933 - val_loss: 2.9381 - val_accuracy: 0.5900\n",
      "Epoch 31/100\n",
      "29/29 [==============================] - 1s 52ms/step - loss: 0.0103 - accuracy: 0.9978 - val_loss: 4.3588 - val_accuracy: 0.5100\n",
      "Epoch 32/100\n",
      "29/29 [==============================] - 1s 50ms/step - loss: 0.0076 - accuracy: 0.9967 - val_loss: 2.3905 - val_accuracy: 0.7000\n",
      "Epoch 33/100\n",
      "29/29 [==============================] - 1s 50ms/step - loss: 0.0127 - accuracy: 0.9933 - val_loss: 3.6268 - val_accuracy: 0.6700\n",
      "Epoch 34/100\n",
      "29/29 [==============================] - 1s 50ms/step - loss: 0.0080 - accuracy: 0.9956 - val_loss: 4.4555 - val_accuracy: 0.6200\n",
      "Epoch 35/100\n",
      "29/29 [==============================] - 1s 50ms/step - loss: 0.0105 - accuracy: 0.9978 - val_loss: 6.1688 - val_accuracy: 0.4300\n",
      "Epoch 36/100\n",
      "29/29 [==============================] - 2s 54ms/step - loss: 0.0041 - accuracy: 0.9989 - val_loss: 2.8898 - val_accuracy: 0.6800\n",
      "Epoch 37/100\n",
      "29/29 [==============================] - 1s 50ms/step - loss: 0.0110 - accuracy: 0.9956 - val_loss: 1.5510 - val_accuracy: 0.7400\n",
      "Epoch 38/100\n",
      "29/29 [==============================] - 1s 51ms/step - loss: 0.0032 - accuracy: 0.9989 - val_loss: 2.0528 - val_accuracy: 0.6500\n",
      "Epoch 39/100\n",
      "29/29 [==============================] - 1s 50ms/step - loss: 0.0010 - accuracy: 1.0000 - val_loss: 3.2219 - val_accuracy: 0.6100\n",
      "Epoch 40/100\n",
      "29/29 [==============================] - 1s 52ms/step - loss: 0.0212 - accuracy: 0.9956 - val_loss: 2.1550 - val_accuracy: 0.7200\n",
      "Epoch 41/100\n",
      "29/29 [==============================] - 1s 52ms/step - loss: 0.0060 - accuracy: 0.9967 - val_loss: 5.0113 - val_accuracy: 0.4200\n",
      "Epoch 42/100\n",
      "29/29 [==============================] - 1s 50ms/step - loss: 0.0036 - accuracy: 0.9989 - val_loss: 2.4665 - val_accuracy: 0.6900\n",
      "Epoch 43/100\n",
      "29/29 [==============================] - 2s 54ms/step - loss: 0.0016 - accuracy: 1.0000 - val_loss: 2.8955 - val_accuracy: 0.6500\n",
      "Epoch 44/100\n",
      "29/29 [==============================] - 1s 50ms/step - loss: 7.1355e-04 - accuracy: 1.0000 - val_loss: 4.0636 - val_accuracy: 0.5500\n",
      "Epoch 45/100\n",
      "29/29 [==============================] - 1s 51ms/step - loss: 0.0045 - accuracy: 0.9967 - val_loss: 2.4645 - val_accuracy: 0.7200\n",
      "Epoch 46/100\n",
      "29/29 [==============================] - 1s 51ms/step - loss: 8.2236e-04 - accuracy: 1.0000 - val_loss: 3.5023 - val_accuracy: 0.6200\n",
      "Epoch 47/100\n",
      "29/29 [==============================] - 1s 51ms/step - loss: 0.0012 - accuracy: 1.0000 - val_loss: 2.7205 - val_accuracy: 0.6500\n",
      "Epoch 48/100\n",
      "29/29 [==============================] - 2s 52ms/step - loss: 3.8378e-04 - accuracy: 1.0000 - val_loss: 3.2346 - val_accuracy: 0.6200\n",
      "Epoch 49/100\n",
      "29/29 [==============================] - 1s 50ms/step - loss: 0.0142 - accuracy: 0.9978 - val_loss: 2.9053 - val_accuracy: 0.5900\n",
      "Epoch 50/100\n",
      "29/29 [==============================] - 2s 54ms/step - loss: 0.0017 - accuracy: 1.0000 - val_loss: 1.9613 - val_accuracy: 0.7600\n",
      "Epoch 51/100\n",
      "29/29 [==============================] - 1s 50ms/step - loss: 0.0042 - accuracy: 0.9989 - val_loss: 5.0766 - val_accuracy: 0.5000\n",
      "Epoch 52/100\n",
      "29/29 [==============================] - 1s 50ms/step - loss: 7.0889e-04 - accuracy: 1.0000 - val_loss: 2.5660 - val_accuracy: 0.7100\n",
      "Epoch 53/100\n",
      "29/29 [==============================] - 1s 51ms/step - loss: 3.3527e-04 - accuracy: 1.0000 - val_loss: 3.4737 - val_accuracy: 0.6100\n",
      "Epoch 54/100\n",
      "29/29 [==============================] - 1s 50ms/step - loss: 5.5075e-04 - accuracy: 1.0000 - val_loss: 2.2922 - val_accuracy: 0.7400\n",
      "Epoch 55/100\n",
      "29/29 [==============================] - 2s 52ms/step - loss: 9.0706e-05 - accuracy: 1.0000 - val_loss: 1.8601 - val_accuracy: 0.8000\n",
      "Epoch 56/100\n",
      "29/29 [==============================] - 1s 50ms/step - loss: 0.0036 - accuracy: 0.9978 - val_loss: 8.9177 - val_accuracy: 0.3700\n",
      "Epoch 57/100\n",
      "29/29 [==============================] - 1s 50ms/step - loss: 0.0074 - accuracy: 0.9978 - val_loss: 3.0681 - val_accuracy: 0.6800\n",
      "Epoch 58/100\n",
      "29/29 [==============================] - 2s 52ms/step - loss: 0.0050 - accuracy: 0.9978 - val_loss: 2.6442 - val_accuracy: 0.7600\n",
      "Epoch 59/100\n",
      "29/29 [==============================] - 1s 50ms/step - loss: 0.0011 - accuracy: 1.0000 - val_loss: 6.3620 - val_accuracy: 0.5700\n",
      "Epoch 60/100\n",
      "29/29 [==============================] - 1s 52ms/step - loss: 0.0108 - accuracy: 0.9967 - val_loss: 3.8081 - val_accuracy: 0.6400\n",
      "Epoch 61/100\n",
      "29/29 [==============================] - 1s 50ms/step - loss: 0.0067 - accuracy: 0.9989 - val_loss: 1.3386 - val_accuracy: 0.8400\n",
      "Epoch 62/100\n",
      "29/29 [==============================] - 1s 51ms/step - loss: 0.0124 - accuracy: 0.9978 - val_loss: 2.3968 - val_accuracy: 0.7100\n",
      "Epoch 63/100\n",
      "29/29 [==============================] - 2s 54ms/step - loss: 0.0071 - accuracy: 0.9956 - val_loss: 4.3901 - val_accuracy: 0.4900\n",
      "Epoch 64/100\n",
      "29/29 [==============================] - 1s 50ms/step - loss: 9.7566e-04 - accuracy: 1.0000 - val_loss: 1.9863 - val_accuracy: 0.7600\n",
      "Epoch 65/100\n",
      "29/29 [==============================] - 2s 52ms/step - loss: 0.0014 - accuracy: 0.9989 - val_loss: 4.5788 - val_accuracy: 0.6100\n",
      "Epoch 66/100\n",
      "29/29 [==============================] - 1s 51ms/step - loss: 9.2473e-04 - accuracy: 1.0000 - val_loss: 2.4632 - val_accuracy: 0.7400\n",
      "Epoch 67/100\n",
      "29/29 [==============================] - 1s 50ms/step - loss: 0.0021 - accuracy: 0.9989 - val_loss: 6.9571 - val_accuracy: 0.5300\n",
      "Epoch 68/100\n",
      "29/29 [==============================] - 1s 50ms/step - loss: 0.0014 - accuracy: 0.9989 - val_loss: 3.2557 - val_accuracy: 0.6800\n",
      "Epoch 69/100\n",
      "29/29 [==============================] - 1s 50ms/step - loss: 0.0019 - accuracy: 0.9989 - val_loss: 4.8448 - val_accuracy: 0.5300\n",
      "Epoch 70/100\n",
      "29/29 [==============================] - 2s 54ms/step - loss: 0.0054 - accuracy: 0.9978 - val_loss: 3.2866 - val_accuracy: 0.7000\n",
      "Epoch 71/100\n",
      "29/29 [==============================] - 1s 51ms/step - loss: 0.0099 - accuracy: 0.9989 - val_loss: 3.2025 - val_accuracy: 0.7800\n",
      "Epoch 72/100\n",
      "29/29 [==============================] - 1s 51ms/step - loss: 0.0450 - accuracy: 0.9922 - val_loss: 17.8239 - val_accuracy: 0.4200\n",
      "Epoch 73/100\n",
      "29/29 [==============================] - 1s 51ms/step - loss: 0.0313 - accuracy: 0.9956 - val_loss: 4.9717 - val_accuracy: 0.6600\n",
      "Epoch 74/100\n",
      "29/29 [==============================] - 2s 52ms/step - loss: 0.0234 - accuracy: 0.9911 - val_loss: 2.9042 - val_accuracy: 0.7000\n",
      "Epoch 75/100\n",
      "29/29 [==============================] - 1s 50ms/step - loss: 0.0207 - accuracy: 0.9956 - val_loss: 1.6538 - val_accuracy: 0.8300\n",
      "Epoch 76/100\n",
      "29/29 [==============================] - 2s 54ms/step - loss: 0.0113 - accuracy: 0.9967 - val_loss: 5.8431 - val_accuracy: 0.6500\n",
      "Epoch 77/100\n",
      "29/29 [==============================] - 1s 50ms/step - loss: 0.0375 - accuracy: 0.9933 - val_loss: 6.2139 - val_accuracy: 0.5300\n",
      "Epoch 78/100\n",
      "29/29 [==============================] - 1s 50ms/step - loss: 0.0022 - accuracy: 0.9989 - val_loss: 2.5504 - val_accuracy: 0.7700\n",
      "Epoch 79/100\n",
      "29/29 [==============================] - 1s 52ms/step - loss: 0.0011 - accuracy: 1.0000 - val_loss: 5.0643 - val_accuracy: 0.6500\n",
      "Epoch 80/100\n",
      "29/29 [==============================] - 1s 50ms/step - loss: 0.0042 - accuracy: 0.9989 - val_loss: 8.5142 - val_accuracy: 0.4700\n",
      "Epoch 81/100\n",
      "29/29 [==============================] - 1s 51ms/step - loss: 0.0183 - accuracy: 0.9956 - val_loss: 11.5369 - val_accuracy: 0.4900\n",
      "Epoch 82/100\n",
      "29/29 [==============================] - 2s 55ms/step - loss: 0.0130 - accuracy: 0.9967 - val_loss: 6.7229 - val_accuracy: 0.5900\n",
      "Epoch 83/100\n",
      "29/29 [==============================] - 1s 50ms/step - loss: 0.0088 - accuracy: 0.9978 - val_loss: 3.5112 - val_accuracy: 0.7300\n",
      "Epoch 84/100\n",
      "29/29 [==============================] - 1s 51ms/step - loss: 0.0328 - accuracy: 0.9933 - val_loss: 2.5483 - val_accuracy: 0.7200\n",
      "Epoch 85/100\n",
      "29/29 [==============================] - 1s 50ms/step - loss: 0.0110 - accuracy: 0.9967 - val_loss: 4.7552 - val_accuracy: 0.6600\n",
      "Epoch 86/100\n",
      "29/29 [==============================] - 1s 50ms/step - loss: 0.0011 - accuracy: 0.9989 - val_loss: 6.8502 - val_accuracy: 0.5800\n",
      "Epoch 87/100\n",
      "29/29 [==============================] - 1s 50ms/step - loss: 0.0017 - accuracy: 0.9989 - val_loss: 2.3189 - val_accuracy: 0.7800\n",
      "Epoch 88/100\n",
      "29/29 [==============================] - 2s 54ms/step - loss: 9.6838e-04 - accuracy: 1.0000 - val_loss: 6.4379 - val_accuracy: 0.5900\n",
      "Epoch 89/100\n",
      "29/29 [==============================] - 2s 52ms/step - loss: 0.0041 - accuracy: 0.9989 - val_loss: 4.9679 - val_accuracy: 0.6200\n",
      "Epoch 90/100\n",
      "29/29 [==============================] - 1s 50ms/step - loss: 0.0058 - accuracy: 0.9978 - val_loss: 11.4330 - val_accuracy: 0.4400\n",
      "Epoch 91/100\n",
      "29/29 [==============================] - 1s 50ms/step - loss: 0.0020 - accuracy: 0.9989 - val_loss: 2.1692 - val_accuracy: 0.8500\n",
      "Epoch 92/100\n",
      "29/29 [==============================] - 1s 51ms/step - loss: 0.0081 - accuracy: 0.9978 - val_loss: 3.1133 - val_accuracy: 0.7500\n",
      "Epoch 93/100\n",
      "29/29 [==============================] - 1s 50ms/step - loss: 0.0107 - accuracy: 0.9967 - val_loss: 10.2271 - val_accuracy: 0.4400\n",
      "Epoch 94/100\n",
      "29/29 [==============================] - 2s 54ms/step - loss: 0.0017 - accuracy: 0.9989 - val_loss: 5.6354 - val_accuracy: 0.6300\n",
      "Epoch 95/100\n",
      "29/29 [==============================] - 1s 50ms/step - loss: 0.0130 - accuracy: 0.9967 - val_loss: 4.9176 - val_accuracy: 0.7000\n",
      "Epoch 96/100\n",
      "29/29 [==============================] - 1s 50ms/step - loss: 0.0180 - accuracy: 0.9956 - val_loss: 2.1341 - val_accuracy: 0.8000\n",
      "Epoch 97/100\n",
      "29/29 [==============================] - 1s 50ms/step - loss: 9.6797e-04 - accuracy: 0.9989 - val_loss: 3.1015 - val_accuracy: 0.8100\n",
      "Epoch 98/100\n",
      "29/29 [==============================] - 1s 50ms/step - loss: 3.1351e-04 - accuracy: 1.0000 - val_loss: 3.3572 - val_accuracy: 0.7900\n",
      "Epoch 99/100\n",
      "29/29 [==============================] - 1s 51ms/step - loss: 1.0269e-04 - accuracy: 1.0000 - val_loss: 4.7606 - val_accuracy: 0.7000\n",
      "Epoch 100/100\n",
      "29/29 [==============================] - 2s 52ms/step - loss: 6.4363e-04 - accuracy: 1.0000 - val_loss: 5.3585 - val_accuracy: 0.6900\n"
     ]
    }
   ],
   "source": [
    "clf.compile(optimizer=Adam(lr=.00001), loss='binary_crossentropy', metrics=['accuracy'])\n",
    "hist = clf.fit(x_train, \n",
    "               y_train,\n",
    "               validation_data=(x_test, y_test),\n",
    "               epochs=100)"
   ]
  },
  {
   "cell_type": "code",
   "execution_count": 37,
   "metadata": {},
   "outputs": [
    {
     "data": {
      "image/png": "[encoded data removed]",
      "text/plain": [
       "<Figure size 300x300 with 1 Axes>"
      ]
     },
     "metadata": {},
     "output_type": "display_data"
    }
   ],
   "source": [
    "plt.figure(figsize=(3,3))\n",
    "plt.plot(hist.history['loss'])\n",
    "plt.title('Training')\n",
    "plt.xlabel('Epochs')\n",
    "plt.ylabel('Loss')\n",
    "plt.show()\n"
   ]
  },
  {
   "cell_type": "code",
   "execution_count": 38,
   "metadata": {},
   "outputs": [
    {
     "name": "stdout",
     "output_type": "stream",
     "text": [
      "4/4 [==============================] - 0s 13ms/step - loss: 5.3585 - accuracy: 0.6900\n"
     ]
    },
    {
     "data": {
      "text/plain": [
       "[5.358513355255127, 0.6899999976158142]"
      ]
     },
     "execution_count": 38,
     "metadata": {},
     "output_type": "execute_result"
    }
   ],
   "source": [
    "clf.evaluate(x_test, y_test, verbose=1)"
   ]
  },
  {
   "cell_type": "code",
   "execution_count": null,
   "metadata": {},
   "outputs": [],
   "source": []
  }
 ],
 "metadata": {
  "kernelspec": {
   "display_name": "trans-env",
   "language": "python",
   "name": "python3"
  },
  "language_info": {
   "codemirror_mode": {
    "name": "ipython",
    "version": 3
   },
   "file_extension": ".py",
   "mimetype": "text/x-python",
   "name": "python",
   "nbconvert_exporter": "python",
   "pygments_lexer": "ipython3",
   "version": "3.8.8"
  },
  "orig_nbformat": 4
 },
 "nbformat": 4,
 "nbformat_minor": 2
}
