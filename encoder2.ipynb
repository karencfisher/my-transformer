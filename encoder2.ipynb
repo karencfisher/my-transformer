{
 "cells": [
  {
   "cell_type": "code",
   "execution_count": 25,
   "metadata": {},
   "outputs": [],
   "source": [
    "import pandas as pd\n",
    "import numpy as np\n",
    "import matplotlib.pyplot as plt\n",
    "\n",
    "import tensorflow as tf\n",
    "from tensorflow.keras.models import Sequential\n",
    "from tensorflow.keras.layers import Dense, InputLayer, Flatten\n",
    "from tensorflow.keras.optimizers import Adam\n",
    "\n",
    "from transformer.encoder import Encoder"
   ]
  },
  {
   "cell_type": "code",
   "execution_count": 3,
   "metadata": {},
   "outputs": [],
   "source": [
    "config = {'num_heads': 12, \n",
    "          'vocab_size': 30522,\n",
    "          'hidden_size': 128,\n",
    "          'max_position_embeds': 512,\n",
    "          'intermediate_size': 512,\n",
    "          'dropout_p': 0.1,\n",
    "          'input_size': (100,),\n",
    "          'num_hidden_layers': 1}"
   ]
  },
  {
   "attachments": {},
   "cell_type": "markdown",
   "metadata": {},
   "source": [
    "## Get some toy data\n",
    "\n",
    "The yelp sentence sentiment data set from Kaggle will do"
   ]
  },
  {
   "cell_type": "code",
   "execution_count": 15,
   "metadata": {},
   "outputs": [
    {
     "data": {
      "text/html": [
       "<div>\n",
       "<style scoped>\n",
       "    .dataframe tbody tr th:only-of-type {\n",
       "        vertical-align: middle;\n",
       "    }\n",
       "\n",
       "    .dataframe tbody tr th {\n",
       "        vertical-align: top;\n",
       "    }\n",
       "\n",
       "    .dataframe thead th {\n",
       "        text-align: right;\n",
       "    }\n",
       "</style>\n",
       "<table border=\"1\" class=\"dataframe\">\n",
       "  <thead>\n",
       "    <tr style=\"text-align: right;\">\n",
       "      <th></th>\n",
       "      <th>sentence</th>\n",
       "      <th>sentiment</th>\n",
       "    </tr>\n",
       "  </thead>\n",
       "  <tbody>\n",
       "    <tr>\n",
       "      <th>0</th>\n",
       "      <td>Wow... Loved this place.</td>\n",
       "      <td>1</td>\n",
       "    </tr>\n",
       "    <tr>\n",
       "      <th>1</th>\n",
       "      <td>Crust is not good.</td>\n",
       "      <td>0</td>\n",
       "    </tr>\n",
       "    <tr>\n",
       "      <th>2</th>\n",
       "      <td>Not tasty and the texture was just nasty.</td>\n",
       "      <td>0</td>\n",
       "    </tr>\n",
       "    <tr>\n",
       "      <th>3</th>\n",
       "      <td>Stopped by during the late May bank holiday of...</td>\n",
       "      <td>1</td>\n",
       "    </tr>\n",
       "    <tr>\n",
       "      <th>4</th>\n",
       "      <td>The selection on the menu was great and so wer...</td>\n",
       "      <td>1</td>\n",
       "    </tr>\n",
       "  </tbody>\n",
       "</table>\n",
       "</div>"
      ],
      "text/plain": [
       "                                            sentence  sentiment\n",
       "0                           Wow... Loved this place.          1\n",
       "1                                 Crust is not good.          0\n",
       "2          Not tasty and the texture was just nasty.          0\n",
       "3  Stopped by during the late May bank holiday of...          1\n",
       "4  The selection on the menu was great and so wer...          1"
      ]
     },
     "execution_count": 15,
     "metadata": {},
     "output_type": "execute_result"
    }
   ],
   "source": [
    "rows = []\n",
    "with open('yelp_labelled.txt', 'r') as FILE:\n",
    "    while True:\n",
    "        row = FILE.readline()\n",
    "        if not row:\n",
    "            break\n",
    "        row = row.strip().split('\\t')\n",
    "        sentence = row[0]\n",
    "        sentiment = int(row[1])\n",
    "        rows.append({'sentence': sentence, 'sentiment': sentiment})\n",
    " \n",
    "df = pd.DataFrame(rows, columns=['sentence', 'sentiment'])\n",
    "df.head()"
   ]
  },
  {
   "cell_type": "code",
   "execution_count": 34,
   "metadata": {},
   "outputs": [
    {
     "data": {
      "text/plain": [
       "1    500\n",
       "0    500\n",
       "Name: sentiment, dtype: int64"
      ]
     },
     "execution_count": 34,
     "metadata": {},
     "output_type": "execute_result"
    }
   ],
   "source": [
    "df['sentiment'].value_counts()"
   ]
  },
  {
   "attachments": {},
   "cell_type": "markdown",
   "metadata": {},
   "source": [
    "### Get our toy vocabulary"
   ]
  },
  {
   "cell_type": "code",
   "execution_count": 17,
   "metadata": {},
   "outputs": [],
   "source": [
    "vocab = {'<pad>': 0, '<unk>': 1}\n",
    "index = 2\n",
    "for s in df['sentence'].values:\n",
    "    words = s.strip().split()\n",
    "    for word in words:\n",
    "        i = vocab.get(word)\n",
    "        if i is None:\n",
    "            vocab[word] = index\n",
    "            index += 1\n",
    "\n",
    "vocab_reverse = {value: key for key, value in vocab.items()}\n",
    "\n",
    "config['vocab_size'] = len(vocab)\n"
   ]
  },
  {
   "attachments": {},
   "cell_type": "markdown",
   "metadata": {},
   "source": [
    "### Tokenize the sentences and split into x and y \n",
    "\n",
    "y will be the last token of each sequence, so we can try to predict it. But mostly we just want to see if our transformer encoder trains."
   ]
  },
  {
   "cell_type": "code",
   "execution_count": 18,
   "metadata": {},
   "outputs": [
    {
     "name": "stdout",
     "output_type": "stream",
     "text": [
      "Number of sentences: 1000\n",
      "Vocabulary size: 2971\n",
      "Max sentence length: 32\n"
     ]
    }
   ],
   "source": [
    "def tokenize(sent):\n",
    "    tokens = [vocab[word] for word in sent.strip().split()]\n",
    "    return tokens\n",
    "\n",
    "x = list(map(tokenize, df['sentence']))\n",
    "x = tf.keras.utils.pad_sequences(x)\n",
    "y = df['sentiment'].values\n",
    "\n",
    "config['input_size'] = (len(x[0]),)\n",
    "\n",
    "print(f'Number of sentences: {df.shape[0]}')\n",
    "print(f'Vocabulary size: {config[\"vocab_size\"]}')\n",
    "print(f'Max sentence length: {config[\"input_size\"][0]}')"
   ]
  },
  {
   "cell_type": "code",
   "execution_count": 19,
   "metadata": {},
   "outputs": [
    {
     "data": {
      "text/plain": [
       "((900, 32), (900,), (100, 32), (100,))"
      ]
     },
     "execution_count": 19,
     "metadata": {},
     "output_type": "execute_result"
    }
   ],
   "source": [
    "x_train = x[:900]\n",
    "y_train = y[:900]\n",
    "x_test = x[900:]\n",
    "y_test = y[900:]\n",
    "\n",
    "x_train.shape, y_train.shape, x_test.shape, y_test.shape"
   ]
  },
  {
   "attachments": {},
   "cell_type": "markdown",
   "metadata": {},
   "source": [
    "## Try our transformer!\n",
    "\n",
    "We'll just train our encoder by the task of predicting the last word of each sentence"
   ]
  },
  {
   "cell_type": "code",
   "execution_count": 30,
   "metadata": {},
   "outputs": [
    {
     "name": "stdout",
     "output_type": "stream",
     "text": [
      "Model: \"sequential_3\"\n",
      "_________________________________________________________________\n",
      " Layer (type)                Output Shape              Param #   \n",
      "=================================================================\n",
      " Encoder (Encoder)           (None, 32, 128)           640232    \n",
      "                                                                 \n",
      " flatten_3 (Flatten)         (None, 4096)              0         \n",
      "                                                                 \n",
      " dense_159 (Dense)           (None, 1)                 4097      \n",
      "                                                                 \n",
      "=================================================================\n",
      "Total params: 644,329\n",
      "Trainable params: 644,329\n",
      "Non-trainable params: 0\n",
      "_________________________________________________________________\n"
     ]
    }
   ],
   "source": [
    "clf = Sequential([InputLayer(input_shape=config['input_size']),\n",
    "                  Encoder(config),\n",
    "                  Flatten(),\n",
    "                  Dense(1, activation='sigmoid')])\n",
    "\n",
    "clf.build()\n",
    "clf.summary()"
   ]
  },
  {
   "cell_type": "code",
   "execution_count": 31,
   "metadata": {},
   "outputs": [
    {
     "name": "stderr",
     "output_type": "stream",
     "text": [
      "WARNING:absl:`lr` is deprecated in Keras optimizer, please use `learning_rate` or use the legacy optimizer, e.g.,tf.keras.optimizers.legacy.Adam.\n"
     ]
    },
    {
     "name": "stdout",
     "output_type": "stream",
     "text": [
      "Epoch 1/100\n",
      "29/29 [==============================] - 12s 84ms/step - loss: 0.8304 - accuracy: 0.4933 - val_loss: 1.3387 - val_accuracy: 0.0600\n",
      "Epoch 2/100\n",
      "29/29 [==============================] - 1s 47ms/step - loss: 0.6554 - accuracy: 0.6033 - val_loss: 1.1400 - val_accuracy: 0.1500\n",
      "Epoch 3/100\n",
      "29/29 [==============================] - 1s 47ms/step - loss: 0.5113 - accuracy: 0.7522 - val_loss: 1.0406 - val_accuracy: 0.4400\n",
      "Epoch 4/100\n",
      "29/29 [==============================] - 1s 47ms/step - loss: 0.3230 - accuracy: 0.8767 - val_loss: 0.9680 - val_accuracy: 0.6000\n",
      "Epoch 5/100\n",
      "29/29 [==============================] - 1s 47ms/step - loss: 0.1496 - accuracy: 0.9456 - val_loss: 2.1086 - val_accuracy: 0.4700\n",
      "Epoch 6/100\n",
      "29/29 [==============================] - 1s 46ms/step - loss: 0.0641 - accuracy: 0.9811 - val_loss: 2.4061 - val_accuracy: 0.5500\n",
      "Epoch 7/100\n",
      "29/29 [==============================] - 1s 50ms/step - loss: 0.0374 - accuracy: 0.9867 - val_loss: 2.4676 - val_accuracy: 0.5600\n",
      "Epoch 8/100\n",
      "29/29 [==============================] - 1s 46ms/step - loss: 0.0215 - accuracy: 0.9956 - val_loss: 2.3834 - val_accuracy: 0.5800\n",
      "Epoch 9/100\n",
      "29/29 [==============================] - 1s 46ms/step - loss: 0.0094 - accuracy: 1.0000 - val_loss: 3.1498 - val_accuracy: 0.4600\n",
      "Epoch 10/100\n",
      "29/29 [==============================] - 1s 47ms/step - loss: 0.0091 - accuracy: 0.9978 - val_loss: 2.5392 - val_accuracy: 0.5800\n",
      "Epoch 11/100\n",
      "29/29 [==============================] - 1s 48ms/step - loss: 0.0064 - accuracy: 0.9989 - val_loss: 2.5657 - val_accuracy: 0.5900\n",
      "Epoch 12/100\n",
      "29/29 [==============================] - 1s 46ms/step - loss: 0.0062 - accuracy: 0.9978 - val_loss: 3.2783 - val_accuracy: 0.5300\n",
      "Epoch 13/100\n",
      "29/29 [==============================] - 1s 46ms/step - loss: 0.0048 - accuracy: 0.9989 - val_loss: 3.6020 - val_accuracy: 0.5000\n",
      "Epoch 14/100\n",
      "29/29 [==============================] - 1s 47ms/step - loss: 0.0066 - accuracy: 0.9978 - val_loss: 3.1198 - val_accuracy: 0.5800\n",
      "Epoch 15/100\n",
      "29/29 [==============================] - 1s 48ms/step - loss: 0.0052 - accuracy: 0.9989 - val_loss: 2.7024 - val_accuracy: 0.6500\n",
      "Epoch 16/100\n",
      "29/29 [==============================] - 1s 49ms/step - loss: 0.0041 - accuracy: 0.9989 - val_loss: 2.7564 - val_accuracy: 0.6500\n",
      "Epoch 17/100\n",
      "29/29 [==============================] - 1s 46ms/step - loss: 0.0014 - accuracy: 1.0000 - val_loss: 2.4288 - val_accuracy: 0.7100\n",
      "Epoch 18/100\n",
      "29/29 [==============================] - 1s 46ms/step - loss: 0.0101 - accuracy: 0.9956 - val_loss: 1.0235 - val_accuracy: 0.8200\n",
      "Epoch 19/100\n",
      "29/29 [==============================] - 1s 46ms/step - loss: 0.0225 - accuracy: 0.9944 - val_loss: 2.1158 - val_accuracy: 0.6700\n",
      "Epoch 20/100\n",
      "29/29 [==============================] - 1s 46ms/step - loss: 0.0014 - accuracy: 1.0000 - val_loss: 2.6510 - val_accuracy: 0.6100\n",
      "Epoch 21/100\n",
      "29/29 [==============================] - 1s 47ms/step - loss: 0.0072 - accuracy: 0.9967 - val_loss: 3.0632 - val_accuracy: 0.5800\n",
      "Epoch 22/100\n",
      "29/29 [==============================] - 1s 47ms/step - loss: 0.0023 - accuracy: 1.0000 - val_loss: 2.7364 - val_accuracy: 0.6300\n",
      "Epoch 23/100\n",
      "29/29 [==============================] - 1s 46ms/step - loss: 0.0096 - accuracy: 0.9967 - val_loss: 1.7243 - val_accuracy: 0.7200\n",
      "Epoch 24/100\n",
      "29/29 [==============================] - 1s 46ms/step - loss: 0.0068 - accuracy: 0.9989 - val_loss: 2.4393 - val_accuracy: 0.6500\n",
      "Epoch 25/100\n",
      "29/29 [==============================] - 1s 51ms/step - loss: 0.0127 - accuracy: 0.9944 - val_loss: 2.7029 - val_accuracy: 0.6000\n",
      "Epoch 26/100\n",
      "29/29 [==============================] - 1s 48ms/step - loss: 0.0036 - accuracy: 0.9989 - val_loss: 3.2387 - val_accuracy: 0.5500\n",
      "Epoch 27/100\n",
      "29/29 [==============================] - 1s 46ms/step - loss: 0.0035 - accuracy: 0.9989 - val_loss: 2.8854 - val_accuracy: 0.5900\n",
      "Epoch 28/100\n",
      "29/29 [==============================] - 1s 46ms/step - loss: 0.0014 - accuracy: 1.0000 - val_loss: 2.6421 - val_accuracy: 0.6100\n",
      "Epoch 29/100\n",
      "29/29 [==============================] - 1s 46ms/step - loss: 0.0010 - accuracy: 1.0000 - val_loss: 3.4832 - val_accuracy: 0.5500\n",
      "Epoch 30/100\n",
      "29/29 [==============================] - 1s 48ms/step - loss: 0.0056 - accuracy: 0.9967 - val_loss: 3.3314 - val_accuracy: 0.5900\n",
      "Epoch 31/100\n",
      "29/29 [==============================] - 1s 49ms/step - loss: 0.0011 - accuracy: 0.9989 - val_loss: 2.5090 - val_accuracy: 0.6600\n",
      "Epoch 32/100\n",
      "29/29 [==============================] - 1s 47ms/step - loss: 5.0169e-04 - accuracy: 1.0000 - val_loss: 3.6751 - val_accuracy: 0.5900\n",
      "Epoch 33/100\n",
      "29/29 [==============================] - 1s 49ms/step - loss: 1.5090e-04 - accuracy: 1.0000 - val_loss: 3.5336 - val_accuracy: 0.5900\n",
      "Epoch 34/100\n",
      "29/29 [==============================] - 1s 46ms/step - loss: 2.8238e-04 - accuracy: 1.0000 - val_loss: 2.8447 - val_accuracy: 0.6300\n",
      "Epoch 35/100\n",
      "29/29 [==============================] - 1s 46ms/step - loss: 9.8517e-04 - accuracy: 1.0000 - val_loss: 2.1857 - val_accuracy: 0.7200\n",
      "Epoch 36/100\n",
      "29/29 [==============================] - 1s 46ms/step - loss: 0.0020 - accuracy: 0.9989 - val_loss: 4.0551 - val_accuracy: 0.5100\n",
      "Epoch 37/100\n",
      "29/29 [==============================] - 1s 46ms/step - loss: 6.7092e-04 - accuracy: 1.0000 - val_loss: 3.0571 - val_accuracy: 0.6400\n",
      "Epoch 38/100\n",
      "29/29 [==============================] - 1s 47ms/step - loss: 0.0016 - accuracy: 0.9989 - val_loss: 5.2987 - val_accuracy: 0.4600\n",
      "Epoch 39/100\n",
      "29/29 [==============================] - 1s 46ms/step - loss: 0.0235 - accuracy: 0.9922 - val_loss: 1.4750 - val_accuracy: 0.7900\n",
      "Epoch 40/100\n",
      "29/29 [==============================] - 1s 46ms/step - loss: 0.0156 - accuracy: 0.9933 - val_loss: 6.4021 - val_accuracy: 0.5000\n",
      "Epoch 41/100\n",
      "29/29 [==============================] - 1s 49ms/step - loss: 0.0382 - accuracy: 0.9922 - val_loss: 0.9562 - val_accuracy: 0.8500\n",
      "Epoch 42/100\n",
      "29/29 [==============================] - 1s 46ms/step - loss: 0.0208 - accuracy: 0.9900 - val_loss: 1.9109 - val_accuracy: 0.7600\n",
      "Epoch 43/100\n",
      "29/29 [==============================] - 1s 48ms/step - loss: 0.0041 - accuracy: 0.9989 - val_loss: 1.4228 - val_accuracy: 0.8100\n",
      "Epoch 44/100\n",
      "29/29 [==============================] - 1s 46ms/step - loss: 0.0444 - accuracy: 0.9878 - val_loss: 8.5566 - val_accuracy: 0.4500\n",
      "Epoch 45/100\n",
      "29/29 [==============================] - 1s 46ms/step - loss: 0.0406 - accuracy: 0.9878 - val_loss: 1.1634 - val_accuracy: 0.8100\n",
      "Epoch 46/100\n",
      "29/29 [==============================] - 1s 46ms/step - loss: 0.0111 - accuracy: 0.9956 - val_loss: 7.6870 - val_accuracy: 0.4300\n",
      "Epoch 47/100\n",
      "29/29 [==============================] - 1s 46ms/step - loss: 0.0213 - accuracy: 0.9922 - val_loss: 9.2028 - val_accuracy: 0.3900\n",
      "Epoch 48/100\n",
      "29/29 [==============================] - 1s 46ms/step - loss: 0.0288 - accuracy: 0.9933 - val_loss: 2.4554 - val_accuracy: 0.7200\n",
      "Epoch 49/100\n",
      "29/29 [==============================] - 1s 49ms/step - loss: 0.0300 - accuracy: 0.9889 - val_loss: 2.9014 - val_accuracy: 0.7200\n",
      "Epoch 50/100\n",
      "29/29 [==============================] - 1s 46ms/step - loss: 0.0073 - accuracy: 0.9978 - val_loss: 5.9629 - val_accuracy: 0.5100\n",
      "Epoch 51/100\n",
      "29/29 [==============================] - 1s 46ms/step - loss: 0.0092 - accuracy: 0.9956 - val_loss: 7.3509 - val_accuracy: 0.4800\n",
      "Epoch 52/100\n",
      "29/29 [==============================] - 1s 46ms/step - loss: 0.0410 - accuracy: 0.9933 - val_loss: 4.3935 - val_accuracy: 0.5700\n",
      "Epoch 53/100\n",
      "29/29 [==============================] - 1s 46ms/step - loss: 0.0366 - accuracy: 0.9922 - val_loss: 1.0121 - val_accuracy: 0.8200\n",
      "Epoch 54/100\n",
      "29/29 [==============================] - 1s 45ms/step - loss: 0.0167 - accuracy: 0.9967 - val_loss: 1.3286 - val_accuracy: 0.8000\n",
      "Epoch 55/100\n",
      "29/29 [==============================] - 1s 46ms/step - loss: 0.0163 - accuracy: 0.9967 - val_loss: 1.3291 - val_accuracy: 0.7700\n",
      "Epoch 56/100\n",
      "29/29 [==============================] - 1s 47ms/step - loss: 0.0266 - accuracy: 0.9944 - val_loss: 3.3811 - val_accuracy: 0.6500\n",
      "Epoch 57/100\n",
      "29/29 [==============================] - 1s 49ms/step - loss: 5.7908e-04 - accuracy: 1.0000 - val_loss: 1.9185 - val_accuracy: 0.7800\n",
      "Epoch 58/100\n",
      "29/29 [==============================] - 1s 46ms/step - loss: 8.8508e-04 - accuracy: 0.9989 - val_loss: 3.1733 - val_accuracy: 0.6900\n",
      "Epoch 59/100\n",
      "29/29 [==============================] - 1s 47ms/step - loss: 0.0025 - accuracy: 0.9978 - val_loss: 5.6214 - val_accuracy: 0.5600\n",
      "Epoch 60/100\n",
      "29/29 [==============================] - 1s 45ms/step - loss: 0.0059 - accuracy: 0.9989 - val_loss: 7.4798 - val_accuracy: 0.5300\n",
      "Epoch 61/100\n",
      "29/29 [==============================] - 1s 48ms/step - loss: 8.1442e-04 - accuracy: 1.0000 - val_loss: 5.4065 - val_accuracy: 0.6300\n",
      "Epoch 62/100\n",
      "29/29 [==============================] - 1s 45ms/step - loss: 3.6135e-05 - accuracy: 1.0000 - val_loss: 4.3694 - val_accuracy: 0.7100\n",
      "Epoch 63/100\n",
      "29/29 [==============================] - 1s 46ms/step - loss: 8.6373e-04 - accuracy: 0.9989 - val_loss: 5.7936 - val_accuracy: 0.5900\n",
      "Epoch 64/100\n",
      "29/29 [==============================] - 1s 46ms/step - loss: 0.0048 - accuracy: 0.9978 - val_loss: 5.6451 - val_accuracy: 0.6200\n",
      "Epoch 65/100\n",
      "29/29 [==============================] - 1s 46ms/step - loss: 0.0041 - accuracy: 0.9989 - val_loss: 3.2413 - val_accuracy: 0.7300\n",
      "Epoch 66/100\n",
      "29/29 [==============================] - 1s 49ms/step - loss: 0.0023 - accuracy: 0.9989 - val_loss: 5.5929 - val_accuracy: 0.6500\n",
      "Epoch 67/100\n",
      "29/29 [==============================] - 1s 49ms/step - loss: 0.0197 - accuracy: 0.9967 - val_loss: 1.7462 - val_accuracy: 0.8500\n",
      "Epoch 68/100\n",
      "29/29 [==============================] - 1s 48ms/step - loss: 3.4030e-04 - accuracy: 1.0000 - val_loss: 2.8337 - val_accuracy: 0.7600\n",
      "Epoch 69/100\n",
      "29/29 [==============================] - 1s 47ms/step - loss: 0.0015 - accuracy: 1.0000 - val_loss: 3.5747 - val_accuracy: 0.7100\n",
      "Epoch 70/100\n",
      "29/29 [==============================] - 1s 47ms/step - loss: 3.2375e-04 - accuracy: 1.0000 - val_loss: 2.9766 - val_accuracy: 0.7500\n",
      "Epoch 71/100\n",
      "29/29 [==============================] - 1s 46ms/step - loss: 4.3923e-04 - accuracy: 1.0000 - val_loss: 3.1568 - val_accuracy: 0.7400\n",
      "Epoch 72/100\n",
      "29/29 [==============================] - 1s 49ms/step - loss: 0.0182 - accuracy: 0.9967 - val_loss: 6.4843 - val_accuracy: 0.5200\n",
      "Epoch 73/100\n",
      "29/29 [==============================] - 1s 46ms/step - loss: 0.0132 - accuracy: 0.9967 - val_loss: 4.7380 - val_accuracy: 0.5600\n",
      "Epoch 74/100\n",
      "29/29 [==============================] - 1s 46ms/step - loss: 0.0030 - accuracy: 0.9978 - val_loss: 3.1454 - val_accuracy: 0.7100\n",
      "Epoch 75/100\n",
      "29/29 [==============================] - 1s 46ms/step - loss: 0.0166 - accuracy: 0.9978 - val_loss: 5.7996 - val_accuracy: 0.5600\n",
      "Epoch 76/100\n",
      "29/29 [==============================] - 1s 46ms/step - loss: 9.0956e-04 - accuracy: 1.0000 - val_loss: 3.5646 - val_accuracy: 0.6900\n",
      "Epoch 77/100\n",
      "29/29 [==============================] - 1s 47ms/step - loss: 0.0020 - accuracy: 0.9989 - val_loss: 3.7496 - val_accuracy: 0.6800\n",
      "Epoch 78/100\n",
      "29/29 [==============================] - 1s 46ms/step - loss: 0.0080 - accuracy: 0.9989 - val_loss: 5.2906 - val_accuracy: 0.5900\n",
      "Epoch 79/100\n",
      "29/29 [==============================] - 1s 46ms/step - loss: 0.0026 - accuracy: 0.9989 - val_loss: 4.4607 - val_accuracy: 0.6200\n",
      "Epoch 80/100\n",
      "29/29 [==============================] - 1s 48ms/step - loss: 7.8467e-04 - accuracy: 1.0000 - val_loss: 4.0060 - val_accuracy: 0.7100\n",
      "Epoch 81/100\n",
      "29/29 [==============================] - 1s 46ms/step - loss: 0.0168 - accuracy: 0.9967 - val_loss: 1.4905 - val_accuracy: 0.8200\n",
      "Epoch 82/100\n",
      "29/29 [==============================] - 1s 46ms/step - loss: 0.0109 - accuracy: 0.9989 - val_loss: 3.2409 - val_accuracy: 0.6600\n",
      "Epoch 83/100\n",
      "29/29 [==============================] - 1s 47ms/step - loss: 0.0072 - accuracy: 0.9967 - val_loss: 3.4855 - val_accuracy: 0.6800\n",
      "Epoch 84/100\n",
      "29/29 [==============================] - 1s 46ms/step - loss: 0.0038 - accuracy: 0.9989 - val_loss: 1.5090 - val_accuracy: 0.8100\n",
      "Epoch 85/100\n",
      "29/29 [==============================] - 1s 46ms/step - loss: 0.0029 - accuracy: 0.9989 - val_loss: 1.8158 - val_accuracy: 0.8100\n",
      "Epoch 86/100\n",
      "29/29 [==============================] - 1s 46ms/step - loss: 3.1302e-04 - accuracy: 1.0000 - val_loss: 4.1919 - val_accuracy: 0.6900\n",
      "Epoch 87/100\n",
      "29/29 [==============================] - 1s 48ms/step - loss: 8.0738e-04 - accuracy: 1.0000 - val_loss: 1.6516 - val_accuracy: 0.8400\n",
      "Epoch 88/100\n",
      "29/29 [==============================] - 1s 46ms/step - loss: 0.0051 - accuracy: 0.9989 - val_loss: 6.3303 - val_accuracy: 0.5700\n",
      "Epoch 89/100\n",
      "29/29 [==============================] - 1s 47ms/step - loss: 0.0030 - accuracy: 0.9989 - val_loss: 1.9076 - val_accuracy: 0.8400\n",
      "Epoch 90/100\n",
      "29/29 [==============================] - 1s 46ms/step - loss: 0.0165 - accuracy: 0.9989 - val_loss: 3.8730 - val_accuracy: 0.7300\n",
      "Epoch 91/100\n",
      "29/29 [==============================] - 1s 46ms/step - loss: 0.1137 - accuracy: 0.9822 - val_loss: 2.9443 - val_accuracy: 0.7600\n",
      "Epoch 92/100\n",
      "29/29 [==============================] - 1s 49ms/step - loss: 0.0442 - accuracy: 0.9944 - val_loss: 10.9867 - val_accuracy: 0.3900\n",
      "Epoch 93/100\n",
      "29/29 [==============================] - 1s 48ms/step - loss: 0.0610 - accuracy: 0.9889 - val_loss: 2.0025 - val_accuracy: 0.8200\n",
      "Epoch 94/100\n",
      "29/29 [==============================] - 1s 47ms/step - loss: 0.0228 - accuracy: 0.9944 - val_loss: 4.2210 - val_accuracy: 0.6600\n",
      "Epoch 95/100\n",
      "29/29 [==============================] - 1s 46ms/step - loss: 0.0020 - accuracy: 1.0000 - val_loss: 4.2475 - val_accuracy: 0.6600\n",
      "Epoch 96/100\n",
      "29/29 [==============================] - 1s 46ms/step - loss: 0.0053 - accuracy: 0.9989 - val_loss: 7.9160 - val_accuracy: 0.5100\n",
      "Epoch 97/100\n",
      "29/29 [==============================] - 1s 46ms/step - loss: 0.0278 - accuracy: 0.9944 - val_loss: 10.7170 - val_accuracy: 0.4300\n",
      "Epoch 98/100\n",
      "29/29 [==============================] - 1s 46ms/step - loss: 0.0538 - accuracy: 0.9911 - val_loss: 5.2428 - val_accuracy: 0.7000\n",
      "Epoch 99/100\n",
      "29/29 [==============================] - 1s 49ms/step - loss: 0.0078 - accuracy: 0.9989 - val_loss: 5.0057 - val_accuracy: 0.6900\n",
      "Epoch 100/100\n",
      "29/29 [==============================] - 1s 47ms/step - loss: 0.0083 - accuracy: 0.9978 - val_loss: 5.1337 - val_accuracy: 0.6700\n"
     ]
    }
   ],
   "source": [
    "clf.compile(optimizer=Adam(lr=.00001), loss='binary_crossentropy', metrics=['accuracy'])\n",
    "hist = clf.fit(x_train, \n",
    "               y_train,\n",
    "               validation_data=(x_test, y_test),\n",
    "               epochs=100)"
   ]
  },
  {
   "cell_type": "code",
   "execution_count": 32,
   "metadata": {},
   "outputs": [
    {
     "data": {
      "image/png": "[encoded data removed]",
      "text/plain": [
       "<Figure size 300x300 with 1 Axes>"
      ]
     },
     "metadata": {},
     "output_type": "display_data"
    }
   ],
   "source": [
    "plt.figure(figsize=(3,3))\n",
    "plt.plot(hist.history['loss'])\n",
    "plt.title('Training')\n",
    "plt.xlabel('Epochs')\n",
    "plt.ylabel('Loss')\n",
    "plt.show()\n"
   ]
  },
  {
   "cell_type": "code",
   "execution_count": 33,
   "metadata": {},
   "outputs": [
    {
     "name": "stdout",
     "output_type": "stream",
     "text": [
      "4/4 [==============================] - 0s 11ms/step - loss: 5.1337 - accuracy: 0.6700\n"
     ]
    },
    {
     "data": {
      "text/plain": [
       "[5.133701801300049, 0.6700000166893005]"
      ]
     },
     "execution_count": 33,
     "metadata": {},
     "output_type": "execute_result"
    }
   ],
   "source": [
    "clf.evaluate(x_test, y_test, verbose=1)"
   ]
  },
  {
   "cell_type": "code",
   "execution_count": null,
   "metadata": {},
   "outputs": [],
   "source": []
  }
 ],
 "metadata": {
  "kernelspec": {
   "display_name": "trans-env",
   "language": "python",
   "name": "python3"
  },
  "language_info": {
   "codemirror_mode": {
    "name": "ipython",
    "version": 3
   },
   "file_extension": ".py",
   "mimetype": "text/x-python",
   "name": "python",
   "nbconvert_exporter": "python",
   "pygments_lexer": "ipython3",
   "version": "3.8.8"
  },
  "orig_nbformat": 4
 },
 "nbformat": 4,
 "nbformat_minor": 2
}
