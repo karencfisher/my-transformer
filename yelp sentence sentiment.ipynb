{
 "cells": [
  {
   "cell_type": "code",
   "execution_count": 8,
   "metadata": {},
   "outputs": [],
   "source": [
    "import pandas as pd\n",
    "import numpy as np\n",
    "import matplotlib.pyplot as plt\n",
    "import seaborn as sns\n",
    "\n",
    "from sklearn.metrics import accuracy_score, confusion_matrix\n",
    "\n",
    "import tensorflow as tf\n",
    "from tensorflow.keras.models import Model, Sequential\n",
    "from tensorflow.keras.layers import Dense, Dropout, Input\n",
    "from tensorflow.keras.optimizers import Adam\n",
    "\n",
    "from transformer.encoder import Encoder\n",
    "from transformer.utils import WordTokenizer"
   ]
  },
  {
   "cell_type": "code",
   "execution_count": 2,
   "metadata": {},
   "outputs": [],
   "source": [
    "config = {'num_heads': 12, \n",
    "          'vocab_size': 30522,\n",
    "          'hidden_size': 128,\n",
    "          'max_position_embeds': 512,\n",
    "          'intermediate_size': 512,\n",
    "          'dropout_p': 0.1,\n",
    "          'input_size': (100,),\n",
    "          'num_hidden_layers': 1}"
   ]
  },
  {
   "attachments": {},
   "cell_type": "markdown",
   "metadata": {},
   "source": [
    "## Get some toy data\n",
    "\n",
    "The yelp sentence sentiment data set from Kaggle will do"
   ]
  },
  {
   "cell_type": "code",
   "execution_count": 3,
   "metadata": {},
   "outputs": [
    {
     "data": {
      "text/html": [
       "<div>\n",
       "<style scoped>\n",
       "    .dataframe tbody tr th:only-of-type {\n",
       "        vertical-align: middle;\n",
       "    }\n",
       "\n",
       "    .dataframe tbody tr th {\n",
       "        vertical-align: top;\n",
       "    }\n",
       "\n",
       "    .dataframe thead th {\n",
       "        text-align: right;\n",
       "    }\n",
       "</style>\n",
       "<table border=\"1\" class=\"dataframe\">\n",
       "  <thead>\n",
       "    <tr style=\"text-align: right;\">\n",
       "      <th></th>\n",
       "      <th>sentence</th>\n",
       "      <th>sentiment</th>\n",
       "    </tr>\n",
       "  </thead>\n",
       "  <tbody>\n",
       "    <tr>\n",
       "      <th>0</th>\n",
       "      <td>Wow... Loved this place.</td>\n",
       "      <td>1</td>\n",
       "    </tr>\n",
       "    <tr>\n",
       "      <th>1</th>\n",
       "      <td>Crust is not good.</td>\n",
       "      <td>0</td>\n",
       "    </tr>\n",
       "    <tr>\n",
       "      <th>2</th>\n",
       "      <td>Not tasty and the texture was just nasty.</td>\n",
       "      <td>0</td>\n",
       "    </tr>\n",
       "    <tr>\n",
       "      <th>3</th>\n",
       "      <td>Stopped by during the late May bank holiday of...</td>\n",
       "      <td>1</td>\n",
       "    </tr>\n",
       "    <tr>\n",
       "      <th>4</th>\n",
       "      <td>The selection on the menu was great and so wer...</td>\n",
       "      <td>1</td>\n",
       "    </tr>\n",
       "  </tbody>\n",
       "</table>\n",
       "</div>"
      ],
      "text/plain": [
       "                                            sentence  sentiment\n",
       "0                           Wow... Loved this place.          1\n",
       "1                                 Crust is not good.          0\n",
       "2          Not tasty and the texture was just nasty.          0\n",
       "3  Stopped by during the late May bank holiday of...          1\n",
       "4  The selection on the menu was great and so wer...          1"
      ]
     },
     "execution_count": 3,
     "metadata": {},
     "output_type": "execute_result"
    }
   ],
   "source": [
    "rows = []\n",
    "with open('yelp_labelled.txt', 'r') as FILE:\n",
    "    while True:\n",
    "        row = FILE.readline()\n",
    "        if not row:\n",
    "            break\n",
    "        row = row.strip().split('\\t')\n",
    "        sentence = row[0]\n",
    "        sentiment = int(row[1])\n",
    "        rows.append({'sentence': sentence, 'sentiment': sentiment})\n",
    " \n",
    "df = pd.DataFrame(rows, columns=['sentence', 'sentiment'])\n",
    "df.head()"
   ]
  },
  {
   "cell_type": "code",
   "execution_count": 4,
   "metadata": {},
   "outputs": [
    {
     "data": {
      "text/plain": [
       "1    500\n",
       "0    500\n",
       "Name: sentiment, dtype: int64"
      ]
     },
     "execution_count": 4,
     "metadata": {},
     "output_type": "execute_result"
    }
   ],
   "source": [
    "df['sentiment'].value_counts()"
   ]
  },
  {
   "attachments": {},
   "cell_type": "markdown",
   "metadata": {},
   "source": [
    "### Tokenize the sentences and split into x and y \n",
    "\n",
    "y will be the last token of each sequence, so we can try to predict it. But mostly we just want to see if our transformer encoder trains."
   ]
  },
  {
   "cell_type": "code",
   "execution_count": 5,
   "metadata": {},
   "outputs": [
    {
     "name": "stdout",
     "output_type": "stream",
     "text": [
      "Number of sentences: 1000\n",
      "Vocabulary size: 2971\n"
     ]
    }
   ],
   "source": [
    "tokenizer = WordTokenizer(make_mask=True)\n",
    "config['vocab_size'] = tokenizer.fit(df['sentence'].values)\n",
    "X, masks = tokenizer.transform(df['sentence'].values, max_len=config['input_size'][0])\n",
    "y = df['sentiment'].values\n",
    "\n",
    "print(f'Number of sentences: {df.shape[0]}')\n",
    "print(f'Vocabulary size: {config[\"vocab_size\"]}')"
   ]
  },
  {
   "attachments": {},
   "cell_type": "markdown",
   "metadata": {},
   "source": [
    "## Try our transformer!\n",
    "\n",
    "We'll just train our encoder by the task of predicting the last word of each sentence"
   ]
  },
  {
   "cell_type": "code",
   "execution_count": 25,
   "metadata": {},
   "outputs": [
    {
     "name": "stdout",
     "output_type": "stream",
     "text": [
      "WARNING:tensorflow:No training configuration found in the save file, so the model was *not* compiled. Compile it manually.\n",
      "Model: \"model_2\"\n",
      "__________________________________________________________________________________________________\n",
      " Layer (type)                   Output Shape         Param #     Connected to                     \n",
      "==================================================================================================\n",
      " input_1 (InputLayer)           [(None, 100)]        0           []                               \n",
      "                                                                                                  \n",
      " input_2 (InputLayer)           [(None, 100)]        0           []                               \n",
      "                                                                                                  \n",
      " model_2 (Functional)           (None, 128)          640232      ['input_1[0][0]',                \n",
      "                                                                  'input_2[0][0]']                \n",
      "                                                                                                  \n",
      " dense_627 (Dense)              (None, 1)            129         ['model_2[0][0]']                \n",
      "                                                                                                  \n",
      "==================================================================================================\n",
      "Total params: 640,361\n",
      "Trainable params: 640,361\n",
      "Non-trainable params: 0\n",
      "__________________________________________________________________________________________________\n"
     ]
    }
   ],
   "source": [
    "encoder_model = tf.keras.models.load_model('encoder_model.h5', \n",
    "                                           custom_objects={'Encoder': Encoder})\n",
    "\n",
    "input1, input2 = encoder_model.input\n",
    "x = encoder_model([input1, input2])\n",
    "output = Dense(1, activation='sigmoid')(x)\n",
    "\n",
    "clf = Model(inputs=encoder_model.input,\n",
    "            outputs=output)\n",
    "\n",
    "# #clf.layers[0].trainable=False\n",
    "clf.summary()"
   ]
  },
  {
   "cell_type": "code",
   "execution_count": 26,
   "metadata": {},
   "outputs": [
    {
     "name": "stdout",
     "output_type": "stream",
     "text": [
      "Epoch 1/20\n",
      "32/32 [==============================] - 20s 145ms/step - loss: 1.3761 - accuracy: 0.5050\n",
      "Epoch 2/20\n",
      "32/32 [==============================] - 5s 147ms/step - loss: 0.6803 - accuracy: 0.5580\n",
      "Epoch 3/20\n",
      "32/32 [==============================] - 5s 146ms/step - loss: 0.5756 - accuracy: 0.7010\n",
      "Epoch 4/20\n",
      "32/32 [==============================] - 5s 144ms/step - loss: 0.3684 - accuracy: 0.8480\n",
      "Epoch 5/20\n",
      "32/32 [==============================] - 5s 146ms/step - loss: 0.1854 - accuracy: 0.9190\n",
      "Epoch 6/20\n",
      "32/32 [==============================] - 5s 145ms/step - loss: 0.1112 - accuracy: 0.9600\n",
      "Epoch 7/20\n",
      "32/32 [==============================] - 5s 146ms/step - loss: 0.0745 - accuracy: 0.9700\n",
      "Epoch 8/20\n",
      "32/32 [==============================] - 5s 145ms/step - loss: 0.0411 - accuracy: 0.9880\n",
      "Epoch 9/20\n",
      "32/32 [==============================] - 5s 150ms/step - loss: 0.0505 - accuracy: 0.9880\n",
      "Epoch 10/20\n",
      "32/32 [==============================] - 5s 145ms/step - loss: 0.0145 - accuracy: 0.9940\n",
      "Epoch 11/20\n",
      "32/32 [==============================] - 5s 147ms/step - loss: 0.0185 - accuracy: 0.9930\n",
      "Epoch 12/20\n",
      "32/32 [==============================] - 5s 145ms/step - loss: 0.0151 - accuracy: 0.9910\n",
      "Epoch 13/20\n",
      "32/32 [==============================] - 5s 144ms/step - loss: 0.0187 - accuracy: 0.9940\n",
      "Epoch 14/20\n",
      "32/32 [==============================] - 5s 143ms/step - loss: 0.0168 - accuracy: 0.9940\n",
      "Epoch 15/20\n",
      "32/32 [==============================] - 5s 146ms/step - loss: 0.0149 - accuracy: 0.9940\n",
      "Epoch 16/20\n",
      "32/32 [==============================] - 5s 144ms/step - loss: 0.0211 - accuracy: 0.9920\n",
      "Epoch 17/20\n",
      "32/32 [==============================] - 5s 145ms/step - loss: 0.0063 - accuracy: 0.9980\n",
      "Epoch 18/20\n",
      "32/32 [==============================] - 5s 143ms/step - loss: 0.0044 - accuracy: 0.9980\n",
      "Epoch 19/20\n",
      "32/32 [==============================] - 5s 143ms/step - loss: 0.0056 - accuracy: 0.9970\n",
      "Epoch 20/20\n",
      "32/32 [==============================] - 5s 142ms/step - loss: 0.0038 - accuracy: 0.9980\n"
     ]
    }
   ],
   "source": [
    "clf.compile(optimizer=Adam(learning_rate=.001), loss='binary_crossentropy', metrics=['accuracy'])\n",
    "hist = clf.fit([X, masks],\n",
    "               y,\n",
    "               epochs=20)"
   ]
  },
  {
   "cell_type": "code",
   "execution_count": 27,
   "metadata": {},
   "outputs": [
    {
     "data": {
      "image/png": "[encoded data removed]",
      "text/plain": [
       "<Figure size 500x500 with 1 Axes>"
      ]
     },
     "metadata": {},
     "output_type": "display_data"
    }
   ],
   "source": [
    "plt.figure(figsize=(5,5))\n",
    "plt.plot(hist.history['accuracy'], label='training')\n",
    "plt.title('Accuracy')\n",
    "plt.xlabel('Epochs')\n",
    "plt.ylabel('Accuracy')\n",
    "plt.legend()\n",
    "plt.show()\n"
   ]
  },
  {
   "attachments": {},
   "cell_type": "markdown",
   "metadata": {},
   "source": [
    "## Test with new made up sentences"
   ]
  },
  {
   "cell_type": "code",
   "execution_count": 31,
   "metadata": {},
   "outputs": [
    {
     "name": "stdout",
     "output_type": "stream",
     "text": [
      "1/1 [==============================] - 2s 2s/step\n",
      "Accuracy  100.00%\n",
      "\n"
     ]
    },
    {
     "data": {
      "text/html": [
       "<div>\n",
       "<style scoped>\n",
       "    .dataframe tbody tr th:only-of-type {\n",
       "        vertical-align: middle;\n",
       "    }\n",
       "\n",
       "    .dataframe tbody tr th {\n",
       "        vertical-align: top;\n",
       "    }\n",
       "\n",
       "    .dataframe thead th {\n",
       "        text-align: right;\n",
       "    }\n",
       "</style>\n",
       "<table border=\"1\" class=\"dataframe\">\n",
       "  <thead>\n",
       "    <tr style=\"text-align: right;\">\n",
       "      <th></th>\n",
       "      <th>Sentence</th>\n",
       "      <th>Predicted Sentiment</th>\n",
       "      <th>Actual Sentiment</th>\n",
       "    </tr>\n",
       "  </thead>\n",
       "  <tbody>\n",
       "    <tr>\n",
       "      <th>0</th>\n",
       "      <td>It really tasted awful.</td>\n",
       "      <td>negative</td>\n",
       "      <td>negative</td>\n",
       "    </tr>\n",
       "    <tr>\n",
       "      <th>1</th>\n",
       "      <td>It was very good.</td>\n",
       "      <td>positive</td>\n",
       "      <td>positive</td>\n",
       "    </tr>\n",
       "    <tr>\n",
       "      <th>2</th>\n",
       "      <td>It was awful.</td>\n",
       "      <td>negative</td>\n",
       "      <td>negative</td>\n",
       "    </tr>\n",
       "    <tr>\n",
       "      <th>3</th>\n",
       "      <td>This is a very bad restaurant.</td>\n",
       "      <td>negative</td>\n",
       "      <td>negative</td>\n",
       "    </tr>\n",
       "    <tr>\n",
       "      <th>4</th>\n",
       "      <td>The spaghetti was perfect</td>\n",
       "      <td>positive</td>\n",
       "      <td>positive</td>\n",
       "    </tr>\n",
       "    <tr>\n",
       "      <th>5</th>\n",
       "      <td>The eggs were gross!</td>\n",
       "      <td>negative</td>\n",
       "      <td>negative</td>\n",
       "    </tr>\n",
       "    <tr>\n",
       "      <th>6</th>\n",
       "      <td>My steak was bad.</td>\n",
       "      <td>negative</td>\n",
       "      <td>negative</td>\n",
       "    </tr>\n",
       "    <tr>\n",
       "      <th>7</th>\n",
       "      <td>I love this place and will be back soon!</td>\n",
       "      <td>positive</td>\n",
       "      <td>positive</td>\n",
       "    </tr>\n",
       "    <tr>\n",
       "      <th>8</th>\n",
       "      <td>The service was great, and the food was great.</td>\n",
       "      <td>positive</td>\n",
       "      <td>positive</td>\n",
       "    </tr>\n",
       "    <tr>\n",
       "      <th>9</th>\n",
       "      <td>The worst steak I have eaten.</td>\n",
       "      <td>negative</td>\n",
       "      <td>negative</td>\n",
       "    </tr>\n",
       "  </tbody>\n",
       "</table>\n",
       "</div>"
      ],
      "text/plain": [
       "                                         Sentence Predicted Sentiment  \\\n",
       "0                         It really tasted awful.            negative   \n",
       "1                               It was very good.            positive   \n",
       "2                                   It was awful.            negative   \n",
       "3                  This is a very bad restaurant.            negative   \n",
       "4                       The spaghetti was perfect            positive   \n",
       "5                            The eggs were gross!            negative   \n",
       "6                               My steak was bad.            negative   \n",
       "7        I love this place and will be back soon!            positive   \n",
       "8  The service was great, and the food was great.            positive   \n",
       "9                   The worst steak I have eaten.            negative   \n",
       "\n",
       "  Actual Sentiment  \n",
       "0         negative  \n",
       "1         positive  \n",
       "2         negative  \n",
       "3         negative  \n",
       "4         positive  \n",
       "5         negative  \n",
       "6         negative  \n",
       "7         positive  \n",
       "8         positive  \n",
       "9         negative  "
      ]
     },
     "execution_count": 31,
     "metadata": {},
     "output_type": "execute_result"
    }
   ],
   "source": [
    "s = [\"It really tasted awful.\",\n",
    "     \"It was very good.\",\n",
    "     \"It was awful.\",\n",
    "     \"This is a very bad restaurant.\",\n",
    "     \"The spaghetti was perfect\",\n",
    "     \"The eggs were gross!\",\n",
    "     \"My steak was bad.\",\n",
    "     \"I love this place and will be back soon!\",\n",
    "     \"The service was great, and the food was great.\",\n",
    "     \"The worst steak I have eaten.\"]\n",
    "\n",
    "y = [0, 1, 0, 0, 1, 0, 0, 1, 1, 0]\n",
    "\n",
    "sentiments = ['negative', 'positive']\n",
    "\n",
    "# Tokenize our sentence, separate last word, and pad\n",
    "X_test, masks_test = tokenizer.transform(s, max_len=config['input_size'][0])\n",
    "\n",
    "# predict sentiment\n",
    "y_hat = clf.predict([X_test, masks_test])\n",
    "y_hat = (y_hat >= 0.5).astype(int)\n",
    "accuracy = accuracy_score(y, y_hat)\n",
    "print(f'Accuracy {accuracy * 100: .2f}%\\n')\n",
    "\n",
    "results = []\n",
    "for i in range(len(s)):\n",
    "     # construct predicted complete sentence\n",
    "     results.append({'Sentence': s[i], \n",
    "                     'Predicted Sentiment': sentiments[y_hat[i][0]],\n",
    "                     'Actual Sentiment': sentiments[y[i]]})\n",
    "\n",
    "pd.DataFrame(results)"
   ]
  },
  {
   "cell_type": "code",
   "execution_count": null,
   "metadata": {},
   "outputs": [],
   "source": []
  }
 ],
 "metadata": {
  "kernelspec": {
   "display_name": "trans-env",
   "language": "python",
   "name": "python3"
  },
  "language_info": {
   "codemirror_mode": {
    "name": "ipython",
    "version": 3
   },
   "file_extension": ".py",
   "mimetype": "text/x-python",
   "name": "python",
   "nbconvert_exporter": "python",
   "pygments_lexer": "ipython3",
   "version": "3.8.8"
  },
  "orig_nbformat": 4
 },
 "nbformat": 4,
 "nbformat_minor": 2
}
