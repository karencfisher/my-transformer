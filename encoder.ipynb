{
 "cells": [
  {
   "cell_type": "code",
   "execution_count": 1,
   "metadata": {},
   "outputs": [],
   "source": [
    "import pandas as pd\n",
    "import numpy as np\n",
    "import matplotlib.pyplot as plt\n",
    "\n",
    "import tensorflow as tf\n",
    "from tensorflow.keras.models import Model\n",
    "from tensorflow.keras.layers import Dense, Input, GlobalAveragePooling1D\n",
    "\n",
    "from transformer.encoder import Encoder\n",
    "from transformer.utils import WordTokenizer"
   ]
  },
  {
   "cell_type": "code",
   "execution_count": 2,
   "metadata": {},
   "outputs": [],
   "source": [
    "config = {'num_heads': 12, \n",
    "          'vocab_size': 30522,\n",
    "          'hidden_size': 128,\n",
    "          'max_position_embeds': 512,\n",
    "          'intermediate_size': 512,\n",
    "          'dropout_p': 0.1,\n",
    "          'input_size': 100,\n",
    "          'num_hidden_layers': 1}"
   ]
  },
  {
   "attachments": {},
   "cell_type": "markdown",
   "metadata": {},
   "source": [
    "## Get some toy data\n",
    "\n",
    "The yelp sentence sentiment data set from Kaggle will do"
   ]
  },
  {
   "cell_type": "code",
   "execution_count": 3,
   "metadata": {},
   "outputs": [
    {
     "data": {
      "text/html": [
       "<div>\n",
       "<style scoped>\n",
       "    .dataframe tbody tr th:only-of-type {\n",
       "        vertical-align: middle;\n",
       "    }\n",
       "\n",
       "    .dataframe tbody tr th {\n",
       "        vertical-align: top;\n",
       "    }\n",
       "\n",
       "    .dataframe thead th {\n",
       "        text-align: right;\n",
       "    }\n",
       "</style>\n",
       "<table border=\"1\" class=\"dataframe\">\n",
       "  <thead>\n",
       "    <tr style=\"text-align: right;\">\n",
       "      <th></th>\n",
       "      <th>sentence</th>\n",
       "      <th>sentiment</th>\n",
       "    </tr>\n",
       "  </thead>\n",
       "  <tbody>\n",
       "    <tr>\n",
       "      <th>0</th>\n",
       "      <td>Wow... Loved this place.</td>\n",
       "      <td>1</td>\n",
       "    </tr>\n",
       "    <tr>\n",
       "      <th>1</th>\n",
       "      <td>Crust is not good.</td>\n",
       "      <td>0</td>\n",
       "    </tr>\n",
       "    <tr>\n",
       "      <th>2</th>\n",
       "      <td>Not tasty and the texture was just nasty.</td>\n",
       "      <td>0</td>\n",
       "    </tr>\n",
       "    <tr>\n",
       "      <th>3</th>\n",
       "      <td>Stopped by during the late May bank holiday of...</td>\n",
       "      <td>1</td>\n",
       "    </tr>\n",
       "    <tr>\n",
       "      <th>4</th>\n",
       "      <td>The selection on the menu was great and so wer...</td>\n",
       "      <td>1</td>\n",
       "    </tr>\n",
       "  </tbody>\n",
       "</table>\n",
       "</div>"
      ],
      "text/plain": [
       "                                            sentence  sentiment\n",
       "0                           Wow... Loved this place.          1\n",
       "1                                 Crust is not good.          0\n",
       "2          Not tasty and the texture was just nasty.          0\n",
       "3  Stopped by during the late May bank holiday of...          1\n",
       "4  The selection on the menu was great and so wer...          1"
      ]
     },
     "execution_count": 3,
     "metadata": {},
     "output_type": "execute_result"
    }
   ],
   "source": [
    "rows = []\n",
    "with open('yelp_labelled.txt', 'r') as FILE:\n",
    "    while True:\n",
    "        row = FILE.readline()\n",
    "        if not row:\n",
    "            break\n",
    "        row = row.strip().split('\\t')\n",
    "        sentence = row[0]\n",
    "        sentiment = int(row[1])\n",
    "        rows.append({'sentence': sentence, 'sentiment': sentiment})\n",
    " \n",
    "df = pd.DataFrame(rows, columns=['sentence', 'sentiment'])\n",
    "df.head()"
   ]
  },
  {
   "attachments": {},
   "cell_type": "markdown",
   "metadata": {},
   "source": [
    "### Tokenize the sentences and split into x and y \n",
    "\n",
    "y will be the last token of each sequence, so we can try to predict it. But mostly we just want to see if our transformer encoder trains."
   ]
  },
  {
   "cell_type": "code",
   "execution_count": 24,
   "metadata": {},
   "outputs": [
    {
     "name": "stdout",
     "output_type": "stream",
     "text": [
      "Number of sentences: 1000\n",
      "Vocabulary size: 2971\n"
     ]
    }
   ],
   "source": [
    "tokenizer = WordTokenizer(make_mask=True)\n",
    "config['vocab_size'] = tokenizer.fit(df['sentence'].values)\n",
    "tokens, masks = tokenizer.transform(df['sentence'].values,\n",
    "                             max_len=config['input_size'])\n",
    "\n",
    "X = np.array([s[:-1] for s in tokens])\n",
    "y = np.array([s[-1] for s in tokens])\n",
    "masks = np.array(masks[:, :-1])\n",
    "\n",
    "print(f'Number of sentences: {df.shape[0]}')\n",
    "print(f'Vocabulary size: {config[\"vocab_size\"]}')"
   ]
  },
  {
   "attachments": {},
   "cell_type": "markdown",
   "metadata": {},
   "source": [
    "## Try our transformer!\n",
    "\n",
    "We'll just train our encoder by the task of predicting the last word of each sentence"
   ]
  },
  {
   "cell_type": "code",
   "execution_count": 27,
   "metadata": {},
   "outputs": [
    {
     "name": "stdout",
     "output_type": "stream",
     "text": [
      "Model: \"model_4\"\n",
      "__________________________________________________________________________________________________\n",
      " Layer (type)                   Output Shape         Param #     Connected to                     \n",
      "==================================================================================================\n",
      " input_9 (InputLayer)           [(None, 99)]         0           []                               \n",
      "                                                                                                  \n",
      " input_10 (InputLayer)          [(None, 99)]         0           []                               \n",
      "                                                                                                  \n",
      " Encoder (Encoder)              (None, 99, 128)      640232      ['input_9[0][0]',                \n",
      "                                                                  'input_10[0][0]']               \n",
      "                                                                                                  \n",
      " global_average_pooling1d_4 (Gl  (None, 128)         0           ['Encoder[0][0]']                \n",
      " obalAveragePooling1D)                                                                            \n",
      "                                                                                                  \n",
      " dense_199 (Dense)              (None, 2971)         383259      ['global_average_pooling1d_4[0][0\n",
      "                                                                 ]']                              \n",
      "                                                                                                  \n",
      "==================================================================================================\n",
      "Total params: 1,023,491\n",
      "Trainable params: 1,023,491\n",
      "Non-trainable params: 0\n",
      "__________________________________________________________________________________________________\n"
     ]
    }
   ],
   "source": [
    "token_input = Input(shape=(config['input_size'] - 1,))\n",
    "mask_input = Input(shape=(config['input_size'] - 1,))\n",
    "x = Encoder(config)([token_input, mask_input])\n",
    "x = GlobalAveragePooling1D()(x)\n",
    "output = Dense(config['vocab_size'], activation='softmax')(x)\n",
    "\n",
    "clf = Model(inputs=[token_input, mask_input], outputs=output)\n",
    "\n",
    "clf.summary()"
   ]
  },
  {
   "cell_type": "code",
   "execution_count": 29,
   "metadata": {},
   "outputs": [
    {
     "name": "stdout",
     "output_type": "stream",
     "text": [
      "Epoch 1/100\n",
      "32/32 [==============================] - 20s 155ms/step - loss: 2.0107\n",
      "Epoch 2/100\n",
      "32/32 [==============================] - 5s 158ms/step - loss: 1.1094\n",
      "Epoch 3/100\n",
      "32/32 [==============================] - 5s 154ms/step - loss: 0.6771\n",
      "Epoch 4/100\n",
      "32/32 [==============================] - 5s 158ms/step - loss: 0.4675\n",
      "Epoch 5/100\n",
      "32/32 [==============================] - 5s 153ms/step - loss: 0.4020\n",
      "Epoch 6/100\n",
      "32/32 [==============================] - 5s 155ms/step - loss: 0.3178\n",
      "Epoch 7/100\n",
      "32/32 [==============================] - 5s 153ms/step - loss: 0.2863\n",
      "Epoch 8/100\n",
      "32/32 [==============================] - 5s 154ms/step - loss: 0.1978\n",
      "Epoch 9/100\n",
      "32/32 [==============================] - 5s 153ms/step - loss: 0.2552\n",
      "Epoch 10/100\n",
      "32/32 [==============================] - 5s 158ms/step - loss: 0.2517\n",
      "Epoch 11/100\n",
      "32/32 [==============================] - 5s 153ms/step - loss: 0.2276\n",
      "Epoch 12/100\n",
      "32/32 [==============================] - 5s 157ms/step - loss: 0.2037\n",
      "Epoch 13/100\n",
      "32/32 [==============================] - 5s 156ms/step - loss: 0.2273\n",
      "Epoch 14/100\n",
      "32/32 [==============================] - 5s 158ms/step - loss: 0.1748\n",
      "Epoch 15/100\n",
      "32/32 [==============================] - 5s 154ms/step - loss: 0.1731\n",
      "Epoch 16/100\n",
      "32/32 [==============================] - 5s 156ms/step - loss: 0.1959\n",
      "Epoch 17/100\n",
      "32/32 [==============================] - 5s 155ms/step - loss: 0.1586\n",
      "Epoch 18/100\n",
      "32/32 [==============================] - 5s 159ms/step - loss: 0.1632\n",
      "Epoch 19/100\n",
      "32/32 [==============================] - 5s 171ms/step - loss: 0.1604\n",
      "Epoch 20/100\n",
      "32/32 [==============================] - 5s 154ms/step - loss: 0.1915\n",
      "Epoch 21/100\n",
      "32/32 [==============================] - 5s 158ms/step - loss: 0.1398\n",
      "Epoch 22/100\n",
      "32/32 [==============================] - 5s 149ms/step - loss: 0.1326\n",
      "Epoch 23/100\n",
      "32/32 [==============================] - 5s 149ms/step - loss: 0.1240\n",
      "Epoch 24/100\n",
      "32/32 [==============================] - 5s 161ms/step - loss: 0.1047\n",
      "Epoch 25/100\n",
      "32/32 [==============================] - 5s 155ms/step - loss: 0.0865\n",
      "Epoch 26/100\n",
      "32/32 [==============================] - 5s 152ms/step - loss: 0.1579\n",
      "Epoch 27/100\n",
      "32/32 [==============================] - 5s 153ms/step - loss: 0.1060\n",
      "Epoch 28/100\n",
      "32/32 [==============================] - 5s 159ms/step - loss: 0.1077\n",
      "Epoch 29/100\n",
      "32/32 [==============================] - 5s 155ms/step - loss: 0.1110\n",
      "Epoch 30/100\n",
      "32/32 [==============================] - 5s 158ms/step - loss: 0.1041\n",
      "Epoch 31/100\n",
      "32/32 [==============================] - 5s 158ms/step - loss: 0.1264\n",
      "Epoch 32/100\n",
      "32/32 [==============================] - 5s 160ms/step - loss: 0.0918\n",
      "Epoch 33/100\n",
      "32/32 [==============================] - 5s 155ms/step - loss: 0.0991\n",
      "Epoch 34/100\n",
      "32/32 [==============================] - 5s 148ms/step - loss: 0.0961\n",
      "Epoch 35/100\n",
      "32/32 [==============================] - 5s 152ms/step - loss: 0.1036\n",
      "Epoch 36/100\n",
      "32/32 [==============================] - 5s 161ms/step - loss: 0.1354\n",
      "Epoch 37/100\n",
      "32/32 [==============================] - 5s 156ms/step - loss: 0.1403\n",
      "Epoch 38/100\n",
      "32/32 [==============================] - 5s 153ms/step - loss: 0.1163\n",
      "Epoch 39/100\n",
      "32/32 [==============================] - 5s 153ms/step - loss: 0.1059\n",
      "Epoch 40/100\n",
      "32/32 [==============================] - 5s 157ms/step - loss: 0.1083\n",
      "Epoch 41/100\n",
      "32/32 [==============================] - 5s 159ms/step - loss: 0.0967\n",
      "Epoch 42/100\n",
      "32/32 [==============================] - 5s 160ms/step - loss: 0.1503\n",
      "Epoch 43/100\n",
      "32/32 [==============================] - 5s 157ms/step - loss: 0.1458\n",
      "Epoch 44/100\n",
      "32/32 [==============================] - 5s 153ms/step - loss: 0.1430\n",
      "Epoch 45/100\n",
      "32/32 [==============================] - 5s 154ms/step - loss: 0.1775\n",
      "Epoch 46/100\n",
      "32/32 [==============================] - 5s 162ms/step - loss: 0.1600\n",
      "Epoch 47/100\n",
      "32/32 [==============================] - 5s 156ms/step - loss: 0.1419\n",
      "Epoch 48/100\n",
      "32/32 [==============================] - 5s 159ms/step - loss: 0.1423\n",
      "Epoch 49/100\n",
      "32/32 [==============================] - 5s 162ms/step - loss: 0.1270\n",
      "Epoch 50/100\n",
      "32/32 [==============================] - 5s 162ms/step - loss: 0.1173\n",
      "Epoch 51/100\n",
      "32/32 [==============================] - 5s 159ms/step - loss: 0.0866\n",
      "Epoch 52/100\n",
      "32/32 [==============================] - 5s 153ms/step - loss: 0.0681\n",
      "Epoch 53/100\n",
      "32/32 [==============================] - 6s 173ms/step - loss: 0.0850\n",
      "Epoch 54/100\n",
      "32/32 [==============================] - 6s 181ms/step - loss: 0.0836\n",
      "Epoch 55/100\n",
      "32/32 [==============================] - 6s 174ms/step - loss: 0.0940\n",
      "Epoch 56/100\n",
      "32/32 [==============================] - 5s 171ms/step - loss: 0.0853\n",
      "Epoch 57/100\n",
      "32/32 [==============================] - 5s 161ms/step - loss: 0.1225\n",
      "Epoch 58/100\n",
      "32/32 [==============================] - 6s 179ms/step - loss: 0.1067\n",
      "Epoch 59/100\n",
      "32/32 [==============================] - 5s 166ms/step - loss: 0.0889\n",
      "Epoch 60/100\n",
      "32/32 [==============================] - 5s 155ms/step - loss: 0.1039\n",
      "Epoch 61/100\n",
      "32/32 [==============================] - 5s 165ms/step - loss: 0.0726\n",
      "Epoch 62/100\n",
      "32/32 [==============================] - 5s 167ms/step - loss: 0.0684\n",
      "Epoch 63/100\n",
      "32/32 [==============================] - 5s 155ms/step - loss: 0.0795\n",
      "Epoch 64/100\n",
      "32/32 [==============================] - 5s 153ms/step - loss: 0.0877\n",
      "Epoch 65/100\n",
      "32/32 [==============================] - 5s 164ms/step - loss: 0.0800\n",
      "Epoch 66/100\n",
      "32/32 [==============================] - 5s 155ms/step - loss: 0.0926\n",
      "Epoch 67/100\n",
      "32/32 [==============================] - 6s 193ms/step - loss: 0.0601\n",
      "Epoch 68/100\n",
      "32/32 [==============================] - 5s 164ms/step - loss: 0.0536\n",
      "Epoch 69/100\n",
      "32/32 [==============================] - 5s 165ms/step - loss: 0.0733\n",
      "Epoch 70/100\n",
      "32/32 [==============================] - 5s 168ms/step - loss: 0.0697\n",
      "Epoch 71/100\n",
      "32/32 [==============================] - 5s 169ms/step - loss: 0.0862\n",
      "Epoch 72/100\n",
      "32/32 [==============================] - 5s 163ms/step - loss: 0.0901\n",
      "Epoch 73/100\n",
      "32/32 [==============================] - 5s 165ms/step - loss: 0.0838\n",
      "Epoch 74/100\n",
      "32/32 [==============================] - 5s 165ms/step - loss: 0.0821\n",
      "Epoch 75/100\n",
      "32/32 [==============================] - 5s 163ms/step - loss: 0.0733\n",
      "Epoch 76/100\n",
      "32/32 [==============================] - 5s 169ms/step - loss: 0.0779\n",
      "Epoch 77/100\n",
      "32/32 [==============================] - 6s 174ms/step - loss: 0.0556\n",
      "Epoch 78/100\n",
      "32/32 [==============================] - 5s 169ms/step - loss: 0.0717\n",
      "Epoch 79/100\n",
      "32/32 [==============================] - 5s 163ms/step - loss: 0.0910\n",
      "Epoch 80/100\n",
      "32/32 [==============================] - 5s 168ms/step - loss: 0.0750\n",
      "Epoch 81/100\n",
      "32/32 [==============================] - 5s 168ms/step - loss: 0.1206\n",
      "Epoch 82/100\n",
      "32/32 [==============================] - 6s 188ms/step - loss: 0.1197\n",
      "Epoch 83/100\n",
      "32/32 [==============================] - 6s 173ms/step - loss: 0.1325\n",
      "Epoch 84/100\n",
      "32/32 [==============================] - 5s 162ms/step - loss: 0.1031\n",
      "Epoch 85/100\n",
      "32/32 [==============================] - 5s 154ms/step - loss: 0.0757\n",
      "Epoch 86/100\n",
      "32/32 [==============================] - 5s 154ms/step - loss: 0.1154\n",
      "Epoch 87/100\n",
      "32/32 [==============================] - 5s 157ms/step - loss: 0.1125\n",
      "Epoch 88/100\n",
      "32/32 [==============================] - 5s 153ms/step - loss: 0.1096\n",
      "Epoch 89/100\n",
      "32/32 [==============================] - 5s 155ms/step - loss: 0.1047\n",
      "Epoch 90/100\n",
      "32/32 [==============================] - 5s 154ms/step - loss: 0.0922\n",
      "Epoch 91/100\n",
      "32/32 [==============================] - 5s 162ms/step - loss: 0.0762\n",
      "Epoch 92/100\n",
      "32/32 [==============================] - 5s 158ms/step - loss: 0.0562\n",
      "Epoch 93/100\n",
      "32/32 [==============================] - 5s 156ms/step - loss: 0.0847\n",
      "Epoch 94/100\n",
      "32/32 [==============================] - 5s 160ms/step - loss: 0.1116\n",
      "Epoch 95/100\n",
      "32/32 [==============================] - 5s 155ms/step - loss: 0.0968\n",
      "Epoch 96/100\n",
      "32/32 [==============================] - 5s 153ms/step - loss: 0.0670\n",
      "Epoch 97/100\n",
      "32/32 [==============================] - 5s 153ms/step - loss: 0.0849\n",
      "Epoch 98/100\n",
      "32/32 [==============================] - 5s 153ms/step - loss: 0.0757\n",
      "Epoch 99/100\n",
      "32/32 [==============================] - 5s 156ms/step - loss: 0.0779\n",
      "Epoch 100/100\n",
      "32/32 [==============================] - 5s 151ms/step - loss: 0.0727\n"
     ]
    }
   ],
   "source": [
    "clf.compile(optimizer='adam', loss='sparse_categorical_crossentropy')\n",
    "hist = clf.fit([X, masks],\n",
    "               y,\n",
    "               epochs=100)"
   ]
  },
  {
   "cell_type": "code",
   "execution_count": 30,
   "metadata": {},
   "outputs": [
    {
     "data": {
      "image/png": "[encoded data removed]",
      "text/plain": [
       "<Figure size 300x300 with 1 Axes>"
      ]
     },
     "metadata": {},
     "output_type": "display_data"
    }
   ],
   "source": [
    "plt.figure(figsize=(3,3))\n",
    "plt.plot(hist.history['loss'])\n",
    "plt.title('Training')\n",
    "plt.xlabel('Epochs')\n",
    "plt.ylabel('Loss')\n",
    "plt.show()\n"
   ]
  },
  {
   "attachments": {},
   "cell_type": "markdown",
   "metadata": {},
   "source": [
    "## Test our toy model\n",
    "\n",
    "Make up a few sentences that may belong to the distribution (Yelp restaraunt review sentences).\n",
    "\n",
    "Then, dropping off that last word of each, try to complete them. \n"
   ]
  },
  {
   "cell_type": "code",
   "execution_count": 31,
   "metadata": {},
   "outputs": [
    {
     "name": "stdout",
     "output_type": "stream",
     "text": [
      "1/1 [==============================] - 2s 2s/step\n",
      "\n",
      "Original sentence: It really tasted awful.\n",
      "Completed sentence: It really tasted though!\n",
      "\n",
      "Original sentence: It was very good.\n",
      "Completed sentence: It was very good.\n",
      "\n",
      "Original sentence: It was awful.\n",
      "Completed sentence: It was delicious!!!\n",
      "\n",
      "Original sentence: This is a very bad place.\n",
      "Completed sentence: This is a very bad Experience!\n",
      "\n",
      "Original sentence: The spaghetti was perfect\n",
      "Completed sentence: The spaghetti was amazing.\n",
      "\n",
      "Original sentence: The eggs were gross!\n",
      "Completed sentence: The eggs were amazing\n",
      "\n",
      "Original sentence: My steak was bad.\n",
      "Completed sentence: My steak was terrible!\n"
     ]
    }
   ],
   "source": [
    "s = [\"It really tasted awful.\",\n",
    "     \"It was very good.\",\n",
    "     \"It was awful.\",\n",
    "     \"This is a very bad place.\",\n",
    "     \"The spaghetti was perfect\",\n",
    "     \"The eggs were gross!\",\n",
    "     \"My steak was bad.\"]\n",
    "\n",
    "# Tokenize our sentence, separate last word, and pad\n",
    "tokens, masks = tokenizer.transform(s,\n",
    "                             max_len=config['input_size'])\n",
    "\n",
    "X_test = np.array([s[:-1] for s in tokens])\n",
    "y_test = np.array([s[-1] for s in tokens])\n",
    "masks_test = np.array(masks[:, :-1])\n",
    "\n",
    "# Predict last word\n",
    "y_hat = clf.predict([X_test, masks_test])\n",
    "y_hat = np.argmax(y_hat, axis=1)\n",
    "\n",
    "for i in range(len(s)):\n",
    "     # construct predicted complete sentence\n",
    "     pred_s = X_test[i].tolist()\n",
    "     pred_s.append(y_hat[i])\n",
    "\n",
    "     #unpad\n",
    "     pred_s = [token for token in pred_s if token!= 0]\n",
    "     pred_s = ' '.join([tokenizer.vocab_reverse[i] for i in pred_s])\n",
    "     print(f'\\nOriginal sentence: {s[i]}\\nCompleted sentence: {pred_s}')\n",
    "\n",
    "\n"
   ]
  },
  {
   "attachments": {},
   "cell_type": "markdown",
   "metadata": {},
   "source": [
    "## Save encoder model\n",
    "\n",
    "Omitting the classifier head"
   ]
  },
  {
   "cell_type": "code",
   "execution_count": 32,
   "metadata": {},
   "outputs": [
    {
     "ename": "ValueError",
     "evalue": "Graph disconnected: cannot obtain value for tensor KerasTensor(type_spec=TensorSpec(shape=(None, 99), dtype=tf.float32, name='input_10'), name='input_10', description=\"created by layer 'input_10'\") at layer \"Encoder\". The following previous layers were accessed without issue: []",
     "output_type": "error",
     "traceback": [
      "\u001b[1;31m---------------------------------------------------------------------------\u001b[0m",
      "\u001b[1;31mValueError\u001b[0m                                Traceback (most recent call last)",
      "Cell \u001b[1;32mIn[32], line 1\u001b[0m\n\u001b[1;32m----> 1\u001b[0m encoder_model \u001b[39m=\u001b[39m tf\u001b[39m.\u001b[39;49mkeras\u001b[39m.\u001b[39;49mmodels\u001b[39m.\u001b[39;49mModel(inputs\u001b[39m=\u001b[39;49mclf\u001b[39m.\u001b[39;49mlayers[\u001b[39m0\u001b[39;49m]\u001b[39m.\u001b[39;49minput,\n\u001b[0;32m      2\u001b[0m                                       outputs\u001b[39m=\u001b[39;49mclf\u001b[39m.\u001b[39;49mlayers[\u001b[39m-\u001b[39;49m\u001b[39m2\u001b[39;49m]\u001b[39m.\u001b[39;49moutput)\n\u001b[0;32m      3\u001b[0m encoder_model\u001b[39m.\u001b[39msummary()\n",
      "File \u001b[1;32mc:\\Users\\karen\\myprojects\\my-transformer\\trans-env\\lib\\site-packages\\tensorflow\\python\\trackable\\base.py:205\u001b[0m, in \u001b[0;36mno_automatic_dependency_tracking.<locals>._method_wrapper\u001b[1;34m(self, *args, **kwargs)\u001b[0m\n\u001b[0;32m    203\u001b[0m \u001b[39mself\u001b[39m\u001b[39m.\u001b[39m_self_setattr_tracking \u001b[39m=\u001b[39m \u001b[39mFalse\u001b[39;00m  \u001b[39m# pylint: disable=protected-access\u001b[39;00m\n\u001b[0;32m    204\u001b[0m \u001b[39mtry\u001b[39;00m:\n\u001b[1;32m--> 205\u001b[0m   result \u001b[39m=\u001b[39m method(\u001b[39mself\u001b[39;49m, \u001b[39m*\u001b[39;49margs, \u001b[39m*\u001b[39;49m\u001b[39m*\u001b[39;49mkwargs)\n\u001b[0;32m    206\u001b[0m \u001b[39mfinally\u001b[39;00m:\n\u001b[0;32m    207\u001b[0m   \u001b[39mself\u001b[39m\u001b[39m.\u001b[39m_self_setattr_tracking \u001b[39m=\u001b[39m previous_value  \u001b[39m# pylint: disable=protected-access\u001b[39;00m\n",
      "File \u001b[1;32mc:\\Users\\karen\\myprojects\\my-transformer\\trans-env\\lib\\site-packages\\keras\\engine\\functional.py:167\u001b[0m, in \u001b[0;36mFunctional.__init__\u001b[1;34m(self, inputs, outputs, name, trainable, **kwargs)\u001b[0m\n\u001b[0;32m    158\u001b[0m     \u001b[39mif\u001b[39;00m \u001b[39mnot\u001b[39;00m \u001b[39mall\u001b[39m(\n\u001b[0;32m    159\u001b[0m         [\n\u001b[0;32m    160\u001b[0m             functional_utils\u001b[39m.\u001b[39mis_input_keras_tensor(t)\n\u001b[0;32m    161\u001b[0m             \u001b[39mfor\u001b[39;00m t \u001b[39min\u001b[39;00m tf\u001b[39m.\u001b[39mnest\u001b[39m.\u001b[39mflatten(inputs)\n\u001b[0;32m    162\u001b[0m         ]\n\u001b[0;32m    163\u001b[0m     ):\n\u001b[0;32m    164\u001b[0m         inputs, outputs \u001b[39m=\u001b[39m functional_utils\u001b[39m.\u001b[39mclone_graph_nodes(\n\u001b[0;32m    165\u001b[0m             inputs, outputs\n\u001b[0;32m    166\u001b[0m         )\n\u001b[1;32m--> 167\u001b[0m \u001b[39mself\u001b[39;49m\u001b[39m.\u001b[39;49m_init_graph_network(inputs, outputs)\n",
      "File \u001b[1;32mc:\\Users\\karen\\myprojects\\my-transformer\\trans-env\\lib\\site-packages\\tensorflow\\python\\trackable\\base.py:205\u001b[0m, in \u001b[0;36mno_automatic_dependency_tracking.<locals>._method_wrapper\u001b[1;34m(self, *args, **kwargs)\u001b[0m\n\u001b[0;32m    203\u001b[0m \u001b[39mself\u001b[39m\u001b[39m.\u001b[39m_self_setattr_tracking \u001b[39m=\u001b[39m \u001b[39mFalse\u001b[39;00m  \u001b[39m# pylint: disable=protected-access\u001b[39;00m\n\u001b[0;32m    204\u001b[0m \u001b[39mtry\u001b[39;00m:\n\u001b[1;32m--> 205\u001b[0m   result \u001b[39m=\u001b[39m method(\u001b[39mself\u001b[39;49m, \u001b[39m*\u001b[39;49margs, \u001b[39m*\u001b[39;49m\u001b[39m*\u001b[39;49mkwargs)\n\u001b[0;32m    206\u001b[0m \u001b[39mfinally\u001b[39;00m:\n\u001b[0;32m    207\u001b[0m   \u001b[39mself\u001b[39m\u001b[39m.\u001b[39m_self_setattr_tracking \u001b[39m=\u001b[39m previous_value  \u001b[39m# pylint: disable=protected-access\u001b[39;00m\n",
      "File \u001b[1;32mc:\\Users\\karen\\myprojects\\my-transformer\\trans-env\\lib\\site-packages\\keras\\engine\\functional.py:266\u001b[0m, in \u001b[0;36mFunctional._init_graph_network\u001b[1;34m(self, inputs, outputs)\u001b[0m\n\u001b[0;32m    263\u001b[0m     \u001b[39mself\u001b[39m\u001b[39m.\u001b[39m_input_coordinates\u001b[39m.\u001b[39mappend((layer, node_index, tensor_index))\n\u001b[0;32m    265\u001b[0m \u001b[39m# Keep track of the network's nodes and layers.\u001b[39;00m\n\u001b[1;32m--> 266\u001b[0m nodes, nodes_by_depth, layers, _ \u001b[39m=\u001b[39m _map_graph_network(\n\u001b[0;32m    267\u001b[0m     \u001b[39mself\u001b[39;49m\u001b[39m.\u001b[39;49minputs, \u001b[39mself\u001b[39;49m\u001b[39m.\u001b[39;49moutputs\n\u001b[0;32m    268\u001b[0m )\n\u001b[0;32m    269\u001b[0m \u001b[39mself\u001b[39m\u001b[39m.\u001b[39m_network_nodes \u001b[39m=\u001b[39m nodes\n\u001b[0;32m    270\u001b[0m \u001b[39mself\u001b[39m\u001b[39m.\u001b[39m_nodes_by_depth \u001b[39m=\u001b[39m nodes_by_depth\n",
      "File \u001b[1;32mc:\\Users\\karen\\myprojects\\my-transformer\\trans-env\\lib\\site-packages\\keras\\engine\\functional.py:1142\u001b[0m, in \u001b[0;36m_map_graph_network\u001b[1;34m(inputs, outputs)\u001b[0m\n\u001b[0;32m   1140\u001b[0m \u001b[39mfor\u001b[39;00m x \u001b[39min\u001b[39;00m tf\u001b[39m.\u001b[39mnest\u001b[39m.\u001b[39mflatten(node\u001b[39m.\u001b[39mkeras_inputs):\n\u001b[0;32m   1141\u001b[0m     \u001b[39mif\u001b[39;00m \u001b[39mid\u001b[39m(x) \u001b[39mnot\u001b[39;00m \u001b[39min\u001b[39;00m computable_tensors:\n\u001b[1;32m-> 1142\u001b[0m         \u001b[39mraise\u001b[39;00m \u001b[39mValueError\u001b[39;00m(\n\u001b[0;32m   1143\u001b[0m             \u001b[39m\"\u001b[39m\u001b[39mGraph disconnected: cannot obtain value for \u001b[39m\u001b[39m\"\u001b[39m\n\u001b[0;32m   1144\u001b[0m             \u001b[39mf\u001b[39m\u001b[39m'\u001b[39m\u001b[39mtensor \u001b[39m\u001b[39m{\u001b[39;00mx\u001b[39m}\u001b[39;00m\u001b[39m at layer \u001b[39m\u001b[39m\"\u001b[39m\u001b[39m{\u001b[39;00mlayer\u001b[39m.\u001b[39mname\u001b[39m}\u001b[39;00m\u001b[39m\"\u001b[39m\u001b[39m. \u001b[39m\u001b[39m'\u001b[39m\n\u001b[0;32m   1145\u001b[0m             \u001b[39m\"\u001b[39m\u001b[39mThe following previous layers were accessed \u001b[39m\u001b[39m\"\u001b[39m\n\u001b[0;32m   1146\u001b[0m             \u001b[39mf\u001b[39m\u001b[39m\"\u001b[39m\u001b[39mwithout issue: \u001b[39m\u001b[39m{\u001b[39;00mlayers_with_complete_input\u001b[39m}\u001b[39;00m\u001b[39m\"\u001b[39m\n\u001b[0;32m   1147\u001b[0m         )\n\u001b[0;32m   1148\u001b[0m \u001b[39mfor\u001b[39;00m x \u001b[39min\u001b[39;00m tf\u001b[39m.\u001b[39mnest\u001b[39m.\u001b[39mflatten(node\u001b[39m.\u001b[39moutputs):\n\u001b[0;32m   1149\u001b[0m     computable_tensors\u001b[39m.\u001b[39madd(\u001b[39mid\u001b[39m(x))\n",
      "\u001b[1;31mValueError\u001b[0m: Graph disconnected: cannot obtain value for tensor KerasTensor(type_spec=TensorSpec(shape=(None, 99), dtype=tf.float32, name='input_10'), name='input_10', description=\"created by layer 'input_10'\") at layer \"Encoder\". The following previous layers were accessed without issue: []"
     ]
    }
   ],
   "source": [
    "encoder_model = tf.keras.models.Model(inputs=clf.layers[0].input,\n",
    "                                      outputs=clf.layers[-2].output)\n",
    "encoder_model.summary()"
   ]
  },
  {
   "cell_type": "code",
   "execution_count": null,
   "metadata": {},
   "outputs": [],
   "source": []
  },
  {
   "cell_type": "code",
   "execution_count": 15,
   "metadata": {},
   "outputs": [
    {
     "name": "stdout",
     "output_type": "stream",
     "text": [
      "WARNING:tensorflow:Compiled the loaded model, but the compiled metrics have yet to be built. `model.compile_metrics` will be empty until you train or evaluate the model.\n"
     ]
    }
   ],
   "source": [
    "encoder_model.save('encoder_model.h5')"
   ]
  },
  {
   "cell_type": "code",
   "execution_count": null,
   "metadata": {},
   "outputs": [],
   "source": []
  }
 ],
 "metadata": {
  "kernelspec": {
   "display_name": "trans-env",
   "language": "python",
   "name": "python3"
  },
  "language_info": {
   "codemirror_mode": {
    "name": "ipython",
    "version": 3
   },
   "file_extension": ".py",
   "mimetype": "text/x-python",
   "name": "python",
   "nbconvert_exporter": "python",
   "pygments_lexer": "ipython3",
   "version": "3.8.8"
  },
  "orig_nbformat": 4
 },
 "nbformat": 4,
 "nbformat_minor": 2
}
