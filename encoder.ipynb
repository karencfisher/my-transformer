{
 "cells": [
  {
   "cell_type": "code",
   "execution_count": 1,
   "metadata": {},
   "outputs": [],
   "source": [
    "import pandas as pd\n",
    "import numpy as np\n",
    "import matplotlib.pyplot as plt\n",
    "\n",
    "import tensorflow as tf\n",
    "from tensorflow.keras.models import Sequential\n",
    "from tensorflow.keras.layers import Dense, InputLayer, GlobalAveragePooling1D\n",
    "\n",
    "from transformer.encoder import Encoder"
   ]
  },
  {
   "cell_type": "code",
   "execution_count": 2,
   "metadata": {},
   "outputs": [],
   "source": [
    "config = {'num_heads': 12, \n",
    "          'vocab_size': 30522,\n",
    "          'hidden_size': 128,\n",
    "          'max_position_embeds': 512,\n",
    "          'intermediate_size': 512,\n",
    "          'dropout_p': 0.1,\n",
    "          'input_size': (100,),\n",
    "          'num_hidden_layers': 1}"
   ]
  },
  {
   "attachments": {},
   "cell_type": "markdown",
   "metadata": {},
   "source": [
    "## Get some toy data\n",
    "\n",
    "The yelp sentence sentiment data set from Kaggle will do"
   ]
  },
  {
   "cell_type": "code",
   "execution_count": 3,
   "metadata": {},
   "outputs": [
    {
     "data": {
      "text/html": [
       "<div>\n",
       "<style scoped>\n",
       "    .dataframe tbody tr th:only-of-type {\n",
       "        vertical-align: middle;\n",
       "    }\n",
       "\n",
       "    .dataframe tbody tr th {\n",
       "        vertical-align: top;\n",
       "    }\n",
       "\n",
       "    .dataframe thead th {\n",
       "        text-align: right;\n",
       "    }\n",
       "</style>\n",
       "<table border=\"1\" class=\"dataframe\">\n",
       "  <thead>\n",
       "    <tr style=\"text-align: right;\">\n",
       "      <th></th>\n",
       "      <th>sentence</th>\n",
       "      <th>sentiment</th>\n",
       "    </tr>\n",
       "  </thead>\n",
       "  <tbody>\n",
       "    <tr>\n",
       "      <th>0</th>\n",
       "      <td>Wow... Loved this place.</td>\n",
       "      <td>1</td>\n",
       "    </tr>\n",
       "    <tr>\n",
       "      <th>1</th>\n",
       "      <td>Crust is not good.</td>\n",
       "      <td>0</td>\n",
       "    </tr>\n",
       "    <tr>\n",
       "      <th>2</th>\n",
       "      <td>Not tasty and the texture was just nasty.</td>\n",
       "      <td>0</td>\n",
       "    </tr>\n",
       "    <tr>\n",
       "      <th>3</th>\n",
       "      <td>Stopped by during the late May bank holiday of...</td>\n",
       "      <td>1</td>\n",
       "    </tr>\n",
       "    <tr>\n",
       "      <th>4</th>\n",
       "      <td>The selection on the menu was great and so wer...</td>\n",
       "      <td>1</td>\n",
       "    </tr>\n",
       "  </tbody>\n",
       "</table>\n",
       "</div>"
      ],
      "text/plain": [
       "                                            sentence  sentiment\n",
       "0                           Wow... Loved this place.          1\n",
       "1                                 Crust is not good.          0\n",
       "2          Not tasty and the texture was just nasty.          0\n",
       "3  Stopped by during the late May bank holiday of...          1\n",
       "4  The selection on the menu was great and so wer...          1"
      ]
     },
     "execution_count": 3,
     "metadata": {},
     "output_type": "execute_result"
    }
   ],
   "source": [
    "rows = []\n",
    "with open('yelp_labelled.txt', 'r') as FILE:\n",
    "    while True:\n",
    "        row = FILE.readline()\n",
    "        if not row:\n",
    "            break\n",
    "        row = row.strip().split('\\t')\n",
    "        sentence = row[0]\n",
    "        sentiment = int(row[1])\n",
    "        rows.append({'sentence': sentence, 'sentiment': sentiment})\n",
    " \n",
    "df = pd.DataFrame(rows, columns=['sentence', 'sentiment'])\n",
    "df.head()"
   ]
  },
  {
   "attachments": {},
   "cell_type": "markdown",
   "metadata": {},
   "source": [
    "### Get our toy vocabulary"
   ]
  },
  {
   "cell_type": "code",
   "execution_count": 4,
   "metadata": {},
   "outputs": [],
   "source": [
    "vocab = {'<pad>': 0, '<unk>': 1}\n",
    "index = 2\n",
    "for s in df['sentence'].values:\n",
    "    words = s.strip().split()\n",
    "    for word in words:\n",
    "        i = vocab.get(word)\n",
    "        if i is None:\n",
    "            vocab[word] = index\n",
    "            index += 1\n",
    "\n",
    "vocab_reverse = {value: key for key, value in vocab.items()}\n",
    "\n",
    "config['vocab_size'] = len(vocab)\n"
   ]
  },
  {
   "attachments": {},
   "cell_type": "markdown",
   "metadata": {},
   "source": [
    "### Tokenize the sentences and split into x and y \n",
    "\n",
    "y will be the last token of each sequence, so we can try to predict it. But mostly we just want to see if our transformer encoder trains."
   ]
  },
  {
   "cell_type": "code",
   "execution_count": 5,
   "metadata": {},
   "outputs": [
    {
     "name": "stdout",
     "output_type": "stream",
     "text": [
      "Number of sentences: 1000\n",
      "Vocabulary size: 2971\n"
     ]
    }
   ],
   "source": [
    "def tokenize(sent):\n",
    "    tokens = [vocab[word] for word in sent.strip().split()]\n",
    "    return tokens\n",
    "\n",
    "tokens = list(map(tokenize, df['sentence']))\n",
    "x = [s[:-1] for s in tokens]\n",
    "x = tf.keras.utils.pad_sequences(x, maxlen=config['input_size'][0])\n",
    "y = np.array([s[-1] for s in tokens])\n",
    "\n",
    "print(f'Number of sentences: {df.shape[0]}')\n",
    "print(f'Vocabulary size: {config[\"vocab_size\"]}')"
   ]
  },
  {
   "attachments": {},
   "cell_type": "markdown",
   "metadata": {},
   "source": [
    "## Try our transformer!\n",
    "\n",
    "We'll just train our encoder by the task of predicting the last word of each sentence"
   ]
  },
  {
   "cell_type": "code",
   "execution_count": 10,
   "metadata": {},
   "outputs": [
    {
     "name": "stdout",
     "output_type": "stream",
     "text": [
      "Model: \"sequential_1\"\n",
      "_________________________________________________________________\n",
      " Layer (type)                Output Shape              Param #   \n",
      "=================================================================\n",
      " Encoder (Encoder)           (None, 100, 128)          640232    \n",
      "                                                                 \n",
      " global_average_pooling1d_1   (None, 128)              0         \n",
      " (GlobalAveragePooling1D)                                        \n",
      "                                                                 \n",
      " dense_79 (Dense)            (None, 2971)              383259    \n",
      "                                                                 \n",
      "=================================================================\n",
      "Total params: 1,023,491\n",
      "Trainable params: 1,023,491\n",
      "Non-trainable params: 0\n",
      "_________________________________________________________________\n"
     ]
    }
   ],
   "source": [
    "clf = Sequential([InputLayer(input_shape=config['input_size']),\n",
    "                  Encoder(config),\n",
    "                  GlobalAveragePooling1D(),\n",
    "                  Dense(config['vocab_size'], activation='softmax')])\n",
    "\n",
    "clf.build()\n",
    "clf.summary()"
   ]
  },
  {
   "cell_type": "code",
   "execution_count": 11,
   "metadata": {},
   "outputs": [
    {
     "name": "stdout",
     "output_type": "stream",
     "text": [
      "Epoch 1/100\n",
      "1/1 [==============================] - 9s 9s/step - loss: 7.9354\n",
      "Epoch 2/100\n",
      "1/1 [==============================] - 0s 47ms/step - loss: 7.5802\n",
      "Epoch 3/100\n",
      "1/1 [==============================] - 0s 51ms/step - loss: 7.1801\n",
      "Epoch 4/100\n",
      "1/1 [==============================] - 0s 45ms/step - loss: 6.6452\n",
      "Epoch 5/100\n",
      "1/1 [==============================] - 0s 53ms/step - loss: 5.9731\n",
      "Epoch 6/100\n",
      "1/1 [==============================] - 0s 45ms/step - loss: 5.0641\n",
      "Epoch 7/100\n",
      "1/1 [==============================] - 0s 49ms/step - loss: 4.0088\n",
      "Epoch 8/100\n",
      "1/1 [==============================] - 0s 43ms/step - loss: 2.9355\n",
      "Epoch 9/100\n",
      "1/1 [==============================] - 0s 52ms/step - loss: 2.4456\n",
      "Epoch 10/100\n",
      "1/1 [==============================] - 0s 44ms/step - loss: 2.3367\n",
      "Epoch 11/100\n",
      "1/1 [==============================] - 0s 48ms/step - loss: 2.1333\n",
      "Epoch 12/100\n",
      "1/1 [==============================] - 0s 48ms/step - loss: 1.9527\n",
      "Epoch 13/100\n",
      "1/1 [==============================] - 0s 47ms/step - loss: 1.8858\n",
      "Epoch 14/100\n",
      "1/1 [==============================] - 0s 50ms/step - loss: 1.9181\n",
      "Epoch 15/100\n",
      "1/1 [==============================] - 0s 52ms/step - loss: 2.0124\n",
      "Epoch 16/100\n",
      "1/1 [==============================] - 0s 46ms/step - loss: 2.0540\n",
      "Epoch 17/100\n",
      "1/1 [==============================] - 0s 46ms/step - loss: 1.9309\n",
      "Epoch 18/100\n",
      "1/1 [==============================] - 0s 44ms/step - loss: 1.7912\n",
      "Epoch 19/100\n",
      "1/1 [==============================] - 0s 49ms/step - loss: 1.8049\n",
      "Epoch 20/100\n",
      "1/1 [==============================] - 0s 45ms/step - loss: 1.8461\n",
      "Epoch 21/100\n",
      "1/1 [==============================] - 0s 45ms/step - loss: 1.9025\n",
      "Epoch 22/100\n",
      "1/1 [==============================] - 0s 49ms/step - loss: 1.8796\n",
      "Epoch 23/100\n",
      "1/1 [==============================] - 0s 51ms/step - loss: 1.8837\n",
      "Epoch 24/100\n",
      "1/1 [==============================] - 0s 46ms/step - loss: 1.8202\n",
      "Epoch 25/100\n",
      "1/1 [==============================] - 0s 46ms/step - loss: 1.8186\n",
      "Epoch 26/100\n",
      "1/1 [==============================] - 0s 41ms/step - loss: 1.7810\n",
      "Epoch 27/100\n",
      "1/1 [==============================] - 0s 48ms/step - loss: 1.7938\n",
      "Epoch 28/100\n",
      "1/1 [==============================] - 0s 44ms/step - loss: 1.8019\n",
      "Epoch 29/100\n",
      "1/1 [==============================] - 0s 53ms/step - loss: 1.8321\n",
      "Epoch 30/100\n",
      "1/1 [==============================] - 0s 45ms/step - loss: 1.7515\n",
      "Epoch 31/100\n",
      "1/1 [==============================] - 0s 49ms/step - loss: 1.7077\n",
      "Epoch 32/100\n",
      "1/1 [==============================] - 0s 44ms/step - loss: 1.7228\n",
      "Epoch 33/100\n",
      "1/1 [==============================] - 0s 41ms/step - loss: 1.6955\n",
      "Epoch 34/100\n",
      "1/1 [==============================] - 0s 40ms/step - loss: 1.7264\n",
      "Epoch 35/100\n",
      "1/1 [==============================] - 0s 64ms/step - loss: 1.6969\n",
      "Epoch 36/100\n",
      "1/1 [==============================] - 0s 44ms/step - loss: 1.6504\n",
      "Epoch 37/100\n",
      "1/1 [==============================] - 0s 46ms/step - loss: 1.6361\n",
      "Epoch 38/100\n",
      "1/1 [==============================] - 0s 50ms/step - loss: 1.6164\n",
      "Epoch 39/100\n",
      "1/1 [==============================] - 0s 44ms/step - loss: 1.5676\n",
      "Epoch 40/100\n",
      "1/1 [==============================] - 0s 44ms/step - loss: 1.5173\n",
      "Epoch 41/100\n",
      "1/1 [==============================] - 0s 47ms/step - loss: 1.5062\n",
      "Epoch 42/100\n",
      "1/1 [==============================] - 0s 43ms/step - loss: 1.4402\n",
      "Epoch 43/100\n",
      "1/1 [==============================] - 0s 43ms/step - loss: 1.3597\n",
      "Epoch 44/100\n",
      "1/1 [==============================] - 0s 45ms/step - loss: 1.2833\n",
      "Epoch 45/100\n",
      "1/1 [==============================] - 0s 44ms/step - loss: 1.1470\n",
      "Epoch 46/100\n",
      "1/1 [==============================] - 0s 65ms/step - loss: 1.0559\n",
      "Epoch 47/100\n",
      "1/1 [==============================] - 0s 48ms/step - loss: 0.9562\n",
      "Epoch 48/100\n",
      "1/1 [==============================] - 0s 44ms/step - loss: 0.9047\n",
      "Epoch 49/100\n",
      "1/1 [==============================] - 0s 44ms/step - loss: 0.8257\n",
      "Epoch 50/100\n",
      "1/1 [==============================] - 0s 47ms/step - loss: 0.6598\n",
      "Epoch 51/100\n",
      "1/1 [==============================] - 0s 46ms/step - loss: 0.7062\n",
      "Epoch 52/100\n",
      "1/1 [==============================] - 0s 47ms/step - loss: 0.5949\n",
      "Epoch 53/100\n",
      "1/1 [==============================] - 0s 50ms/step - loss: 0.5553\n",
      "Epoch 54/100\n",
      "1/1 [==============================] - 0s 46ms/step - loss: 0.4209\n",
      "Epoch 55/100\n",
      "1/1 [==============================] - 0s 43ms/step - loss: 0.4136\n",
      "Epoch 56/100\n",
      "1/1 [==============================] - 0s 40ms/step - loss: 0.3334\n",
      "Epoch 57/100\n",
      "1/1 [==============================] - 0s 46ms/step - loss: 0.3229\n",
      "Epoch 58/100\n",
      "1/1 [==============================] - 0s 47ms/step - loss: 0.2903\n",
      "Epoch 59/100\n",
      "1/1 [==============================] - 0s 45ms/step - loss: 0.2518\n",
      "Epoch 60/100\n",
      "1/1 [==============================] - 0s 43ms/step - loss: 0.1955\n",
      "Epoch 61/100\n",
      "1/1 [==============================] - 0s 43ms/step - loss: 0.1557\n",
      "Epoch 62/100\n",
      "1/1 [==============================] - 0s 44ms/step - loss: 0.1842\n",
      "Epoch 63/100\n",
      "1/1 [==============================] - 0s 47ms/step - loss: 0.1017\n",
      "Epoch 64/100\n",
      "1/1 [==============================] - 0s 47ms/step - loss: 0.1319\n",
      "Epoch 65/100\n",
      "1/1 [==============================] - 0s 46ms/step - loss: 0.0756\n",
      "Epoch 66/100\n",
      "1/1 [==============================] - 0s 43ms/step - loss: 0.0508\n",
      "Epoch 67/100\n",
      "1/1 [==============================] - 0s 46ms/step - loss: 0.0528\n",
      "Epoch 68/100\n",
      "1/1 [==============================] - 0s 44ms/step - loss: 0.0319\n",
      "Epoch 69/100\n",
      "1/1 [==============================] - 0s 44ms/step - loss: 0.0228\n",
      "Epoch 70/100\n",
      "1/1 [==============================] - 0s 45ms/step - loss: 0.0237\n",
      "Epoch 71/100\n",
      "1/1 [==============================] - 0s 45ms/step - loss: 0.0264\n",
      "Epoch 72/100\n",
      "1/1 [==============================] - 0s 41ms/step - loss: 0.0340\n",
      "Epoch 73/100\n",
      "1/1 [==============================] - 0s 45ms/step - loss: 0.0060\n",
      "Epoch 74/100\n",
      "1/1 [==============================] - 0s 43ms/step - loss: 0.0131\n",
      "Epoch 75/100\n",
      "1/1 [==============================] - 0s 43ms/step - loss: 0.0272\n",
      "Epoch 76/100\n",
      "1/1 [==============================] - 0s 46ms/step - loss: 0.0056\n",
      "Epoch 77/100\n",
      "1/1 [==============================] - 0s 46ms/step - loss: 0.0074\n",
      "Epoch 78/100\n",
      "1/1 [==============================] - 0s 46ms/step - loss: 0.0136\n",
      "Epoch 79/100\n",
      "1/1 [==============================] - 0s 43ms/step - loss: 0.0042\n",
      "Epoch 80/100\n",
      "1/1 [==============================] - 0s 45ms/step - loss: 0.0054\n",
      "Epoch 81/100\n",
      "1/1 [==============================] - 0s 42ms/step - loss: 0.0033\n",
      "Epoch 82/100\n",
      "1/1 [==============================] - 0s 48ms/step - loss: 0.0020\n",
      "Epoch 83/100\n",
      "1/1 [==============================] - 0s 44ms/step - loss: 0.0022\n",
      "Epoch 84/100\n",
      "1/1 [==============================] - 0s 46ms/step - loss: 0.0016\n",
      "Epoch 85/100\n",
      "1/1 [==============================] - 0s 56ms/step - loss: 0.0015\n",
      "Epoch 86/100\n",
      "1/1 [==============================] - 0s 48ms/step - loss: 0.0046\n",
      "Epoch 87/100\n",
      "1/1 [==============================] - 0s 44ms/step - loss: 0.0013\n",
      "Epoch 88/100\n",
      "1/1 [==============================] - 0s 43ms/step - loss: 0.0018\n",
      "Epoch 89/100\n",
      "1/1 [==============================] - 0s 75ms/step - loss: 0.0031\n",
      "Epoch 90/100\n",
      "1/1 [==============================] - 0s 44ms/step - loss: 0.0017\n",
      "Epoch 91/100\n",
      "1/1 [==============================] - 0s 55ms/step - loss: 8.0007e-04\n",
      "Epoch 92/100\n",
      "1/1 [==============================] - 0s 45ms/step - loss: 7.9383e-04\n",
      "Epoch 93/100\n",
      "1/1 [==============================] - 0s 44ms/step - loss: 9.1423e-04\n",
      "Epoch 94/100\n",
      "1/1 [==============================] - 0s 46ms/step - loss: 0.0063\n",
      "Epoch 95/100\n",
      "1/1 [==============================] - 0s 41ms/step - loss: 0.0038\n",
      "Epoch 96/100\n",
      "1/1 [==============================] - 0s 45ms/step - loss: 6.4465e-04\n",
      "Epoch 97/100\n",
      "1/1 [==============================] - 0s 47ms/step - loss: 0.0011\n",
      "Epoch 98/100\n",
      "1/1 [==============================] - 0s 45ms/step - loss: 5.7453e-04\n",
      "Epoch 99/100\n",
      "1/1 [==============================] - 0s 43ms/step - loss: 7.3620e-04\n",
      "Epoch 100/100\n",
      "1/1 [==============================] - 0s 43ms/step - loss: 4.7158e-04\n"
     ]
    }
   ],
   "source": [
    "clf.compile(optimizer='adam', loss='sparse_categorical_crossentropy')\n",
    "hist = clf.fit(x, \n",
    "               y,\n",
    "               epochs=100)"
   ]
  },
  {
   "cell_type": "code",
   "execution_count": 12,
   "metadata": {},
   "outputs": [
    {
     "data": {
      "image/png": "[encoded data removed]",
      "text/plain": [
       "<Figure size 300x300 with 1 Axes>"
      ]
     },
     "metadata": {},
     "output_type": "display_data"
    }
   ],
   "source": [
    "plt.figure(figsize=(3,3))\n",
    "plt.plot(hist.history['loss'])\n",
    "plt.title('Training')\n",
    "plt.xlabel('Epochs')\n",
    "plt.ylabel('Loss')\n",
    "plt.show()\n"
   ]
  },
  {
   "attachments": {},
   "cell_type": "markdown",
   "metadata": {},
   "source": [
    "## Test our toy model\n",
    "\n",
    "Make up a few sentences that may belong to the distribution (Yelp restaraunt review sentences).\n",
    "\n",
    "Then, dropping off that last word of each, try to complete them. \n"
   ]
  },
  {
   "cell_type": "code",
   "execution_count": 13,
   "metadata": {},
   "outputs": [
    {
     "name": "stdout",
     "output_type": "stream",
     "text": [
      "1/1 [==============================] - 1s 1s/step\n",
      "\n",
      "Original sentence: It really tasted awful.\n",
      "Completed sentence: It really tasted awful.\n",
      "\n",
      "Original sentence: It was very good.\n",
      "Completed sentence: It was very good.\n",
      "\n",
      "Original sentence: It was awful.\n",
      "Completed sentence: It was awful.\n",
      "\n",
      "Original sentence: This is a very bad place.\n",
      "Completed sentence: This is a very bad place.\n",
      "\n",
      "Original sentence: The spaghetti was perfect\n",
      "Completed sentence: The spaghetti was perfect\n",
      "\n",
      "Original sentence: The eggs were gross!\n",
      "Completed sentence: The eggs were gross!\n",
      "\n",
      "Original sentence: My steak was bad.\n",
      "Completed sentence: My steak was bad.\n"
     ]
    }
   ],
   "source": [
    "s = [\"It really tasted awful.\",\n",
    "     \"It was very good.\",\n",
    "     \"It was awful.\",\n",
    "     \"This is a very bad place.\",\n",
    "     \"The spaghetti was perfect\",\n",
    "     \"The eggs were gross!\",\n",
    "     \"My steak was bad.\"]\n",
    "\n",
    "# Tokenize our sentence, separate last word, and pad\n",
    "tokens = list(map(tokenize, s))\n",
    "x = [s[:-1] for s in tokens]\n",
    "x = tf.keras.utils.pad_sequences(x, maxlen=config['input_size'][0])\n",
    "y = np.array([s[-1] for s in tokens])\n",
    "\n",
    "# Predict last word\n",
    "y_hat = clf.predict(x)\n",
    "y_hat = np.argmax(y_hat, axis=1)\n",
    "\n",
    "for i in range(len(s)):\n",
    "     # construct predicted complete sentence\n",
    "     pred_s = x[i].tolist()\n",
    "     pred_s.append(y_hat[i])\n",
    "\n",
    "     #unpad\n",
    "     pred_s = [token for token in pred_s if token!= 0]\n",
    "     pred_s = ' '.join([vocab_reverse[i] for i in pred_s])\n",
    "     print(f'\\nOriginal sentence: {s[i]}\\nCompleted sentence: {pred_s}')\n",
    "\n",
    "\n"
   ]
  },
  {
   "attachments": {},
   "cell_type": "markdown",
   "metadata": {},
   "source": [
    "## Save encoder model\n",
    "\n",
    "Omitting the classifier head"
   ]
  },
  {
   "cell_type": "code",
   "execution_count": 14,
   "metadata": {},
   "outputs": [
    {
     "name": "stdout",
     "output_type": "stream",
     "text": [
      "Model: \"model\"\n",
      "_________________________________________________________________\n",
      " Layer (type)                Output Shape              Param #   \n",
      "=================================================================\n",
      " input_2 (InputLayer)        [(None, 100)]             0         \n",
      "                                                                 \n",
      " Encoder (Encoder)           (None, 100, 128)          640232    \n",
      "                                                                 \n",
      " global_average_pooling1d_1   (None, 128)              0         \n",
      " (GlobalAveragePooling1D)                                        \n",
      "                                                                 \n",
      "=================================================================\n",
      "Total params: 640,232\n",
      "Trainable params: 640,232\n",
      "Non-trainable params: 0\n",
      "_________________________________________________________________\n"
     ]
    }
   ],
   "source": [
    "encoder_model = tf.keras.models.Model(inputs=clf.layers[0].input,\n",
    "                                      outputs=clf.layers[-2].output)\n",
    "encoder_model.summary()"
   ]
  },
  {
   "cell_type": "code",
   "execution_count": 15,
   "metadata": {},
   "outputs": [
    {
     "name": "stdout",
     "output_type": "stream",
     "text": [
      "WARNING:tensorflow:Compiled the loaded model, but the compiled metrics have yet to be built. `model.compile_metrics` will be empty until you train or evaluate the model.\n"
     ]
    }
   ],
   "source": [
    "encoder_model.save('encoder_model.h5')"
   ]
  },
  {
   "cell_type": "code",
   "execution_count": null,
   "metadata": {},
   "outputs": [],
   "source": []
  }
 ],
 "metadata": {
  "kernelspec": {
   "display_name": "trans-env",
   "language": "python",
   "name": "python3"
  },
  "language_info": {
   "codemirror_mode": {
    "name": "ipython",
    "version": 3
   },
   "file_extension": ".py",
   "mimetype": "text/x-python",
   "name": "python",
   "nbconvert_exporter": "python",
   "pygments_lexer": "ipython3",
   "version": "3.8.8"
  },
  "orig_nbformat": 4
 },
 "nbformat": 4,
 "nbformat_minor": 2
}
