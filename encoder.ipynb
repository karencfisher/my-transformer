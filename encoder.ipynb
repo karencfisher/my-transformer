{
 "cells": [
  {
   "cell_type": "code",
   "execution_count": 11,
   "metadata": {},
   "outputs": [],
   "source": [
    "import tensorflow as tf\n",
    "from tensorflow.keras.models import Sequential\n",
    "from tensorflow.keras.layers import Dense, InputLayer, Flatten\n",
    "\n",
    "from encoder import Encoder"
   ]
  },
  {
   "cell_type": "code",
   "execution_count": 13,
   "metadata": {},
   "outputs": [],
   "source": [
    "config = {'num_heads': 4, \n",
    "          'vocab_size': 50257,\n",
    "          'hidden_size': 64,\n",
    "          'max_position_embeds': 100,\n",
    "          'intermediate_size': 64,\n",
    "          'dropout_p': 0.5}"
   ]
  },
  {
   "cell_type": "code",
   "execution_count": 14,
   "metadata": {},
   "outputs": [
    {
     "ename": "ValueError",
     "evalue": "Exception encountered when calling layer \"Encoder\" (type Encoder).\n\nin user code:\n\n    File \"c:\\Users\\karen\\myprojects\\my-transformer\\encoder.py\", line 18, in call  *\n        x = x + self.attention(x)\n\n    ValueError: Dimensions must be equal, but are 128 and 64 for '{{node Encoder/add}} = AddV2[T=DT_FLOAT](Encoder/layer_normalization_14/add, Encoder/multi_attention_head/dense_124/BiasAdd)' with input shapes: [?,128], [?,64].\n\n\nCall arguments received by layer \"Encoder\" (type Encoder):\n  • embeds=tf.Tensor(shape=(None, 128), dtype=float32)",
     "output_type": "error",
     "traceback": [
      "\u001b[1;31m---------------------------------------------------------------------------\u001b[0m",
      "\u001b[1;31mValueError\u001b[0m                                Traceback (most recent call last)",
      "Cell \u001b[1;32mIn[14], line 1\u001b[0m\n\u001b[1;32m----> 1\u001b[0m clf \u001b[39m=\u001b[39m Sequential([InputLayer(input_shape\u001b[39m=\u001b[39;49m(\u001b[39m128\u001b[39;49m,)),\n\u001b[0;32m      2\u001b[0m                   Encoder(config),\n\u001b[0;32m      3\u001b[0m                   Flatten(),\n\u001b[0;32m      4\u001b[0m                   Dense(config[\u001b[39m'\u001b[39;49m\u001b[39mvocab_size\u001b[39;49m\u001b[39m'\u001b[39;49m])])\n\u001b[0;32m      6\u001b[0m clf\u001b[39m.\u001b[39mbuild()\n\u001b[0;32m      7\u001b[0m clf\u001b[39m.\u001b[39msummary()\n",
      "File \u001b[1;32mc:\\Users\\karen\\myprojects\\my-transformer\\trans-env\\lib\\site-packages\\tensorflow\\python\\trackable\\base.py:205\u001b[0m, in \u001b[0;36mno_automatic_dependency_tracking.<locals>._method_wrapper\u001b[1;34m(self, *args, **kwargs)\u001b[0m\n\u001b[0;32m    203\u001b[0m \u001b[39mself\u001b[39m\u001b[39m.\u001b[39m_self_setattr_tracking \u001b[39m=\u001b[39m \u001b[39mFalse\u001b[39;00m  \u001b[39m# pylint: disable=protected-access\u001b[39;00m\n\u001b[0;32m    204\u001b[0m \u001b[39mtry\u001b[39;00m:\n\u001b[1;32m--> 205\u001b[0m   result \u001b[39m=\u001b[39m method(\u001b[39mself\u001b[39;49m, \u001b[39m*\u001b[39;49margs, \u001b[39m*\u001b[39;49m\u001b[39m*\u001b[39;49mkwargs)\n\u001b[0;32m    206\u001b[0m \u001b[39mfinally\u001b[39;00m:\n\u001b[0;32m    207\u001b[0m   \u001b[39mself\u001b[39m\u001b[39m.\u001b[39m_self_setattr_tracking \u001b[39m=\u001b[39m previous_value  \u001b[39m# pylint: disable=protected-access\u001b[39;00m\n",
      "File \u001b[1;32mc:\\Users\\karen\\myprojects\\my-transformer\\trans-env\\lib\\site-packages\\keras\\utils\\traceback_utils.py:70\u001b[0m, in \u001b[0;36mfilter_traceback.<locals>.error_handler\u001b[1;34m(*args, **kwargs)\u001b[0m\n\u001b[0;32m     67\u001b[0m     filtered_tb \u001b[39m=\u001b[39m _process_traceback_frames(e\u001b[39m.\u001b[39m__traceback__)\n\u001b[0;32m     68\u001b[0m     \u001b[39m# To get the full stack trace, call:\u001b[39;00m\n\u001b[0;32m     69\u001b[0m     \u001b[39m# `tf.debugging.disable_traceback_filtering()`\u001b[39;00m\n\u001b[1;32m---> 70\u001b[0m     \u001b[39mraise\u001b[39;00m e\u001b[39m.\u001b[39mwith_traceback(filtered_tb) \u001b[39mfrom\u001b[39;00m \u001b[39mNone\u001b[39m\n\u001b[0;32m     71\u001b[0m \u001b[39mfinally\u001b[39;00m:\n\u001b[0;32m     72\u001b[0m     \u001b[39mdel\u001b[39;00m filtered_tb\n",
      "File \u001b[1;32m~\\AppData\\Local\\Temp\\__autograph_generated_file5mhrid2y.py:11\u001b[0m, in \u001b[0;36mouter_factory.<locals>.inner_factory.<locals>.tf__call\u001b[1;34m(self, embeds)\u001b[0m\n\u001b[0;32m      9\u001b[0m retval_ \u001b[39m=\u001b[39m ag__\u001b[39m.\u001b[39mUndefinedReturnValue()\n\u001b[0;32m     10\u001b[0m x \u001b[39m=\u001b[39m ag__\u001b[39m.\u001b[39mconverted_call(ag__\u001b[39m.\u001b[39mld(\u001b[39mself\u001b[39m)\u001b[39m.\u001b[39mlayer_norm1, (ag__\u001b[39m.\u001b[39mld(embeds),), \u001b[39mNone\u001b[39;00m, fscope)\n\u001b[1;32m---> 11\u001b[0m x \u001b[39m=\u001b[39m (ag__\u001b[39m.\u001b[39mld(x) \u001b[39m+\u001b[39m ag__\u001b[39m.\u001b[39mconverted_call(ag__\u001b[39m.\u001b[39mld(\u001b[39mself\u001b[39m)\u001b[39m.\u001b[39mattention, (ag__\u001b[39m.\u001b[39mld(x),), \u001b[39mNone\u001b[39;00m, fscope))\n\u001b[0;32m     12\u001b[0m x \u001b[39m=\u001b[39m ag__\u001b[39m.\u001b[39mconverted_call(ag__\u001b[39m.\u001b[39mld(\u001b[39mself\u001b[39m)\u001b[39m.\u001b[39mlayer_norm2, (ag__\u001b[39m.\u001b[39mld(x),), \u001b[39mNone\u001b[39;00m, fscope)\n\u001b[0;32m     13\u001b[0m x \u001b[39m=\u001b[39m ag__\u001b[39m.\u001b[39mconverted_call(ag__\u001b[39m.\u001b[39mld(\u001b[39mself\u001b[39m)\u001b[39m.\u001b[39mff, (ag__\u001b[39m.\u001b[39mld(x),), \u001b[39mNone\u001b[39;00m, fscope)\n",
      "\u001b[1;31mValueError\u001b[0m: Exception encountered when calling layer \"Encoder\" (type Encoder).\n\nin user code:\n\n    File \"c:\\Users\\karen\\myprojects\\my-transformer\\encoder.py\", line 18, in call  *\n        x = x + self.attention(x)\n\n    ValueError: Dimensions must be equal, but are 128 and 64 for '{{node Encoder/add}} = AddV2[T=DT_FLOAT](Encoder/layer_normalization_14/add, Encoder/multi_attention_head/dense_124/BiasAdd)' with input shapes: [?,128], [?,64].\n\n\nCall arguments received by layer \"Encoder\" (type Encoder):\n  • embeds=tf.Tensor(shape=(None, 128), dtype=float32)"
     ]
    }
   ],
   "source": [
    "clf = Sequential([InputLayer(input_shape=(128,)),\n",
    "                  Encoder(config),\n",
    "                  Flatten(),\n",
    "                  Dense(config['vocab_size'])])\n",
    "\n",
    "clf.build()\n",
    "clf.summary()"
   ]
  },
  {
   "cell_type": "markdown",
   "metadata": {},
   "source": []
  },
  {
   "cell_type": "code",
   "execution_count": null,
   "metadata": {},
   "outputs": [],
   "source": []
  }
 ],
 "metadata": {
  "kernelspec": {
   "display_name": "trans-env",
   "language": "python",
   "name": "python3"
  },
  "language_info": {
   "codemirror_mode": {
    "name": "ipython",
    "version": 3
   },
   "file_extension": ".py",
   "mimetype": "text/x-python",
   "name": "python",
   "nbconvert_exporter": "python",
   "pygments_lexer": "ipython3",
   "version": "3.8.8"
  },
  "orig_nbformat": 4
 },
 "nbformat": 4,
 "nbformat_minor": 2
}
